{
 "cells": [
  {
   "cell_type": "code",
   "execution_count": null,
   "metadata": {
    "application/vnd.databricks.v1+cell": {
     "cellMetadata": {
      "byteLimit": 2048000,
      "rowLimit": 10000
     },
     "inputWidgets": {},
     "nuid": "ef27fe32-2204-4ec0-ab19-fdc2330f7ee9",
     "showTitle": false,
     "title": ""
    },
    "jupyter": {
     "outputs_hidden": true
    }
   },
   "outputs": [
    {
     "name": "stdout",
     "output_type": "stream",
     "text": [
      "Python interpreter will be restarted.\n",
      "ERROR: pip's dependency resolver does not currently take into account all the packages that are installed. This behaviour is the source of the following dependency conflicts.\n",
      "scipy 1.7.3 requires numpy<1.23.0,>=1.16.5, but you have numpy 1.26.1 which is incompatible.\n",
      "Python interpreter will be restarted.\n",
      "Python interpreter will be restarted.\n",
      "Requirement already satisfied: pypdf in /local_disk0/.ephemeral_nfs/envs/pythonEnv-f190e7be-5362-4dae-bbb9-9ede0d5effbc/lib/python3.9/site-packages (3.17.0)\n",
      "Requirement already satisfied: typing_extensions>=3.7.4.3 in /local_disk0/.ephemeral_nfs/envs/pythonEnv-f190e7be-5362-4dae-bbb9-9ede0d5effbc/lib/python3.9/site-packages (from pypdf) (4.8.0)\n",
      "Python interpreter will be restarted.\n",
      "Python interpreter will be restarted.\n",
      "Requirement already satisfied: yt_dlp in /local_disk0/.ephemeral_nfs/envs/pythonEnv-f190e7be-5362-4dae-bbb9-9ede0d5effbc/lib/python3.9/site-packages (2023.10.13)\n",
      "Requirement already satisfied: mutagen in /local_disk0/.ephemeral_nfs/envs/pythonEnv-f190e7be-5362-4dae-bbb9-9ede0d5effbc/lib/python3.9/site-packages (from yt_dlp) (1.47.0)\n",
      "Requirement already satisfied: pycryptodomex in /local_disk0/.ephemeral_nfs/envs/pythonEnv-f190e7be-5362-4dae-bbb9-9ede0d5effbc/lib/python3.9/site-packages (from yt_dlp) (3.19.0)\n",
      "Requirement already satisfied: certifi in /databricks/python3/lib/python3.9/site-packages (from yt_dlp) (2021.10.8)\n",
      "Requirement already satisfied: brotli in /local_disk0/.ephemeral_nfs/envs/pythonEnv-f190e7be-5362-4dae-bbb9-9ede0d5effbc/lib/python3.9/site-packages (from yt_dlp) (1.1.0)\n",
      "Requirement already satisfied: websockets in /local_disk0/.ephemeral_nfs/envs/pythonEnv-f190e7be-5362-4dae-bbb9-9ede0d5effbc/lib/python3.9/site-packages (from yt_dlp) (12.0)\n",
      "Python interpreter will be restarted.\n",
      "Python interpreter will be restarted.\n",
      "Requirement already satisfied: pydub in /local_disk0/.ephemeral_nfs/envs/pythonEnv-f190e7be-5362-4dae-bbb9-9ede0d5effbc/lib/python3.9/site-packages (0.25.1)\n",
      "Python interpreter will be restarted.\n",
      "Python interpreter will be restarted.\n",
      "Python interpreter will be restarted.\n",
      "Python interpreter will be restarted.\n",
      "Requirement already satisfied: chromadb in /local_disk0/.ephemeral_nfs/envs/pythonEnv-f190e7be-5362-4dae-bbb9-9ede0d5effbc/lib/python3.9/site-packages (0.4.15)\n",
      "Requirement already satisfied: opentelemetry-sdk>=1.2.0 in /local_disk0/.ephemeral_nfs/envs/pythonEnv-f190e7be-5362-4dae-bbb9-9ede0d5effbc/lib/python3.9/site-packages (from chromadb) (1.20.0)\n",
      "Requirement already satisfied: onnxruntime>=1.14.1 in /local_disk0/.ephemeral_nfs/envs/pythonEnv-f190e7be-5362-4dae-bbb9-9ede0d5effbc/lib/python3.9/site-packages (from chromadb) (1.16.1)\n",
      "Requirement already satisfied: tokenizers>=0.13.2 in /local_disk0/.ephemeral_nfs/envs/pythonEnv-f190e7be-5362-4dae-bbb9-9ede0d5effbc/lib/python3.9/site-packages (from chromadb) (0.14.1)\n",
      "Requirement already satisfied: grpcio>=1.58.0 in /local_disk0/.ephemeral_nfs/envs/pythonEnv-f190e7be-5362-4dae-bbb9-9ede0d5effbc/lib/python3.9/site-packages (from chromadb) (1.59.2)\n",
      "Requirement already satisfied: numpy>=1.22.5 in /local_disk0/.ephemeral_nfs/envs/pythonEnv-f190e7be-5362-4dae-bbb9-9ede0d5effbc/lib/python3.9/site-packages (from chromadb) (1.26.1)\n",
      "Requirement already satisfied: chroma-hnswlib==0.7.3 in /local_disk0/.ephemeral_nfs/envs/pythonEnv-f190e7be-5362-4dae-bbb9-9ede0d5effbc/lib/python3.9/site-packages (from chromadb) (0.7.3)\n",
      "Requirement already satisfied: uvicorn[standard]>=0.18.3 in /local_disk0/.ephemeral_nfs/envs/pythonEnv-f190e7be-5362-4dae-bbb9-9ede0d5effbc/lib/python3.9/site-packages (from chromadb) (0.23.2)\n",
      "Requirement already satisfied: posthog>=2.4.0 in /local_disk0/.ephemeral_nfs/envs/pythonEnv-f190e7be-5362-4dae-bbb9-9ede0d5effbc/lib/python3.9/site-packages (from chromadb) (3.0.2)\n",
      "Requirement already satisfied: tqdm>=4.65.0 in /local_disk0/.ephemeral_nfs/envs/pythonEnv-f190e7be-5362-4dae-bbb9-9ede0d5effbc/lib/python3.9/site-packages (from chromadb) (4.66.1)\n",
      "Requirement already satisfied: overrides>=7.3.1 in /local_disk0/.ephemeral_nfs/envs/pythonEnv-f190e7be-5362-4dae-bbb9-9ede0d5effbc/lib/python3.9/site-packages (from chromadb) (7.4.0)\n",
      "Requirement already satisfied: tenacity>=8.2.3 in /local_disk0/.ephemeral_nfs/envs/pythonEnv-f190e7be-5362-4dae-bbb9-9ede0d5effbc/lib/python3.9/site-packages (from chromadb) (8.2.3)\n",
      "Requirement already satisfied: pulsar-client>=3.1.0 in /local_disk0/.ephemeral_nfs/envs/pythonEnv-f190e7be-5362-4dae-bbb9-9ede0d5effbc/lib/python3.9/site-packages (from chromadb) (3.3.0)\n",
      "Requirement already satisfied: requests>=2.28 in /local_disk0/.ephemeral_nfs/envs/pythonEnv-f190e7be-5362-4dae-bbb9-9ede0d5effbc/lib/python3.9/site-packages (from chromadb) (2.31.0)\n",
      "Requirement already satisfied: opentelemetry-api>=1.2.0 in /local_disk0/.ephemeral_nfs/envs/pythonEnv-f190e7be-5362-4dae-bbb9-9ede0d5effbc/lib/python3.9/site-packages (from chromadb) (1.20.0)\n",
      "Requirement already satisfied: importlib-resources in /local_disk0/.ephemeral_nfs/envs/pythonEnv-f190e7be-5362-4dae-bbb9-9ede0d5effbc/lib/python3.9/site-packages (from chromadb) (6.1.0)\n",
      "Requirement already satisfied: pydantic>=1.9 in /local_disk0/.ephemeral_nfs/envs/pythonEnv-f190e7be-5362-4dae-bbb9-9ede0d5effbc/lib/python3.9/site-packages (from chromadb) (2.4.2)\n",
      "Requirement already satisfied: typer>=0.9.0 in /local_disk0/.ephemeral_nfs/envs/pythonEnv-f190e7be-5362-4dae-bbb9-9ede0d5effbc/lib/python3.9/site-packages (from chromadb) (0.9.0)\n",
      "Requirement already satisfied: pypika>=0.48.9 in /local_disk0/.ephemeral_nfs/envs/pythonEnv-f190e7be-5362-4dae-bbb9-9ede0d5effbc/lib/python3.9/site-packages (from chromadb) (0.48.9)\n",
      "Requirement already satisfied: bcrypt>=4.0.1 in /local_disk0/.ephemeral_nfs/envs/pythonEnv-f190e7be-5362-4dae-bbb9-9ede0d5effbc/lib/python3.9/site-packages (from chromadb) (4.0.1)\n",
      "Requirement already satisfied: fastapi>=0.95.2 in /local_disk0/.ephemeral_nfs/envs/pythonEnv-f190e7be-5362-4dae-bbb9-9ede0d5effbc/lib/python3.9/site-packages (from chromadb) (0.104.1)\n",
      "Requirement already satisfied: kubernetes>=28.1.0 in /local_disk0/.ephemeral_nfs/envs/pythonEnv-f190e7be-5362-4dae-bbb9-9ede0d5effbc/lib/python3.9/site-packages (from chromadb) (28.1.0)\n",
      "Requirement already satisfied: typing-extensions>=4.5.0 in /local_disk0/.ephemeral_nfs/envs/pythonEnv-f190e7be-5362-4dae-bbb9-9ede0d5effbc/lib/python3.9/site-packages (from chromadb) (4.8.0)\n",
      "Requirement already satisfied: opentelemetry-exporter-otlp-proto-grpc>=1.2.0 in /local_disk0/.ephemeral_nfs/envs/pythonEnv-f190e7be-5362-4dae-bbb9-9ede0d5effbc/lib/python3.9/site-packages (from chromadb) (1.20.0)\n",
      "Requirement already satisfied: starlette<0.28.0,>=0.27.0 in /local_disk0/.ephemeral_nfs/envs/pythonEnv-f190e7be-5362-4dae-bbb9-9ede0d5effbc/lib/python3.9/site-packages (from fastapi>=0.95.2->chromadb) (0.27.0)\n",
      "Requirement already satisfied: anyio<4.0.0,>=3.7.1 in /local_disk0/.ephemeral_nfs/envs/pythonEnv-f190e7be-5362-4dae-bbb9-9ede0d5effbc/lib/python3.9/site-packages (from fastapi>=0.95.2->chromadb) (3.7.1)\n",
      "Requirement already satisfied: idna>=2.8 in /databricks/python3/lib/python3.9/site-packages (from anyio<4.0.0,>=3.7.1->fastapi>=0.95.2->chromadb) (3.3)\n",
      "Requirement already satisfied: exceptiongroup in /local_disk0/.ephemeral_nfs/envs/pythonEnv-f190e7be-5362-4dae-bbb9-9ede0d5effbc/lib/python3.9/site-packages (from anyio<4.0.0,>=3.7.1->fastapi>=0.95.2->chromadb) (1.1.3)\n",
      "Requirement already satisfied: sniffio>=1.1 in /local_disk0/.ephemeral_nfs/envs/pythonEnv-f190e7be-5362-4dae-bbb9-9ede0d5effbc/lib/python3.9/site-packages (from anyio<4.0.0,>=3.7.1->fastapi>=0.95.2->chromadb) (1.3.0)\n",
      "Requirement already satisfied: requests-oauthlib in /local_disk0/.ephemeral_nfs/envs/pythonEnv-f190e7be-5362-4dae-bbb9-9ede0d5effbc/lib/python3.9/site-packages (from kubernetes>=28.1.0->chromadb) (1.3.1)\n",
      "Requirement already satisfied: python-dateutil>=2.5.3 in /databricks/python3/lib/python3.9/site-packages (from kubernetes>=28.1.0->chromadb) (2.8.2)\n",
      "Requirement already satisfied: oauthlib>=3.2.2 in /local_disk0/.ephemeral_nfs/envs/pythonEnv-f190e7be-5362-4dae-bbb9-9ede0d5effbc/lib/python3.9/site-packages (from kubernetes>=28.1.0->chromadb) (3.2.2)\n",
      "Requirement already satisfied: google-auth>=1.0.1 in /local_disk0/.ephemeral_nfs/envs/pythonEnv-f190e7be-5362-4dae-bbb9-9ede0d5effbc/lib/python3.9/site-packages (from kubernetes>=28.1.0->chromadb) (2.23.4)\n",
      "Requirement already satisfied: certifi>=14.05.14 in /databricks/python3/lib/python3.9/site-packages (from kubernetes>=28.1.0->chromadb) (2021.10.8)\n",
      "Requirement already satisfied: websocket-client!=0.40.0,!=0.41.*,!=0.42.*,>=0.32.0 in /local_disk0/.ephemeral_nfs/envs/pythonEnv-f190e7be-5362-4dae-bbb9-9ede0d5effbc/lib/python3.9/site-packages (from kubernetes>=28.1.0->chromadb) (1.6.4)\n",
      "Requirement already satisfied: pyyaml>=5.4.1 in /local_disk0/.ephemeral_nfs/envs/pythonEnv-f190e7be-5362-4dae-bbb9-9ede0d5effbc/lib/python3.9/site-packages (from kubernetes>=28.1.0->chromadb) (6.0.1)\n",
      "Requirement already satisfied: six>=1.9.0 in /databricks/python3/lib/python3.9/site-packages (from kubernetes>=28.1.0->chromadb) (1.16.0)\n",
      "Requirement already satisfied: urllib3<2.0,>=1.24.2 in /databricks/python3/lib/python3.9/site-packages (from kubernetes>=28.1.0->chromadb) (1.26.9)\n",
      "Requirement already satisfied: rsa<5,>=3.1.4 in /local_disk0/.ephemeral_nfs/envs/pythonEnv-f190e7be-5362-4dae-bbb9-9ede0d5effbc/lib/python3.9/site-packages (from google-auth>=1.0.1->kubernetes>=28.1.0->chromadb) (4.9)\n",
      "Requirement already satisfied: cachetools<6.0,>=2.0.0 in /local_disk0/.ephemeral_nfs/envs/pythonEnv-f190e7be-5362-4dae-bbb9-9ede0d5effbc/lib/python3.9/site-packages (from google-auth>=1.0.1->kubernetes>=28.1.0->chromadb) (5.3.2)\n",
      "Requirement already satisfied: pyasn1-modules>=0.2.1 in /local_disk0/.ephemeral_nfs/envs/pythonEnv-f190e7be-5362-4dae-bbb9-9ede0d5effbc/lib/python3.9/site-packages (from google-auth>=1.0.1->kubernetes>=28.1.0->chromadb) (0.3.0)\n",
      "Requirement already satisfied: protobuf in /local_disk0/.ephemeral_nfs/envs/pythonEnv-f190e7be-5362-4dae-bbb9-9ede0d5effbc/lib/python3.9/site-packages (from onnxruntime>=1.14.1->chromadb) (4.25.0)\n",
      "Requirement already satisfied: flatbuffers in /local_disk0/.ephemeral_nfs/envs/pythonEnv-f190e7be-5362-4dae-bbb9-9ede0d5effbc/lib/python3.9/site-packages (from onnxruntime>=1.14.1->chromadb) (23.5.26)\n",
      "Requirement already satisfied: coloredlogs in /local_disk0/.ephemeral_nfs/envs/pythonEnv-f190e7be-5362-4dae-bbb9-9ede0d5effbc/lib/python3.9/site-packages (from onnxruntime>=1.14.1->chromadb) (15.0.1)\n",
      "Requirement already satisfied: packaging in /databricks/python3/lib/python3.9/site-packages (from onnxruntime>=1.14.1->chromadb) (21.3)\n",
      "Requirement already satisfied: sympy in /local_disk0/.ephemeral_nfs/envs/pythonEnv-f190e7be-5362-4dae-bbb9-9ede0d5effbc/lib/python3.9/site-packages (from onnxruntime>=1.14.1->chromadb) (1.12)\n",
      "Requirement already satisfied: deprecated>=1.2.6 in /local_disk0/.ephemeral_nfs/envs/pythonEnv-f190e7be-5362-4dae-bbb9-9ede0d5effbc/lib/python3.9/site-packages (from opentelemetry-api>=1.2.0->chromadb) (1.2.14)\n",
      "Requirement already satisfied: importlib-metadata<7.0,>=6.0 in /local_disk0/.ephemeral_nfs/envs/pythonEnv-f190e7be-5362-4dae-bbb9-9ede0d5effbc/lib/python3.9/site-packages (from opentelemetry-api>=1.2.0->chromadb) (6.8.0)\n",
      "Requirement already satisfied: wrapt<2,>=1.10 in /local_disk0/.ephemeral_nfs/envs/pythonEnv-f190e7be-5362-4dae-bbb9-9ede0d5effbc/lib/python3.9/site-packages (from deprecated>=1.2.6->opentelemetry-api>=1.2.0->chromadb) (1.15.0)\n",
      "Requirement already satisfied: zipp>=0.5 in /local_disk0/.ephemeral_nfs/envs/pythonEnv-f190e7be-5362-4dae-bbb9-9ede0d5effbc/lib/python3.9/site-packages (from importlib-metadata<7.0,>=6.0->opentelemetry-api>=1.2.0->chromadb) (3.17.0)\n",
      "Requirement already satisfied: googleapis-common-protos~=1.52 in /local_disk0/.ephemeral_nfs/envs/pythonEnv-f190e7be-5362-4dae-bbb9-9ede0d5effbc/lib/python3.9/site-packages (from opentelemetry-exporter-otlp-proto-grpc>=1.2.0->chromadb) (1.61.0)\n",
      "Requirement already satisfied: backoff<3.0.0,>=1.10.0 in /local_disk0/.ephemeral_nfs/envs/pythonEnv-f190e7be-5362-4dae-bbb9-9ede0d5effbc/lib/python3.9/site-packages (from opentelemetry-exporter-otlp-proto-grpc>=1.2.0->chromadb) (2.2.1)\n",
      "Requirement already satisfied: opentelemetry-proto==1.20.0 in /local_disk0/.ephemeral_nfs/envs/pythonEnv-f190e7be-5362-4dae-bbb9-9ede0d5effbc/lib/python3.9/site-packages (from opentelemetry-exporter-otlp-proto-grpc>=1.2.0->chromadb) (1.20.0)\n",
      "Requirement already satisfied: opentelemetry-exporter-otlp-proto-common==1.20.0 in /local_disk0/.ephemeral_nfs/envs/pythonEnv-f190e7be-5362-4dae-bbb9-9ede0d5effbc/lib/python3.9/site-packages (from opentelemetry-exporter-otlp-proto-grpc>=1.2.0->chromadb) (1.20.0)\n",
      "Requirement already satisfied: opentelemetry-semantic-conventions==0.41b0 in /local_disk0/.ephemeral_nfs/envs/pythonEnv-f190e7be-5362-4dae-bbb9-9ede0d5effbc/lib/python3.9/site-packages (from opentelemetry-sdk>=1.2.0->chromadb) (0.41b0)\n",
      "Requirement already satisfied: monotonic>=1.5 in /local_disk0/.ephemeral_nfs/envs/pythonEnv-f190e7be-5362-4dae-bbb9-9ede0d5effbc/lib/python3.9/site-packages (from posthog>=2.4.0->chromadb) (1.6)\n",
      "Requirement already satisfied: pyasn1<0.6.0,>=0.4.6 in /local_disk0/.ephemeral_nfs/envs/pythonEnv-f190e7be-5362-4dae-bbb9-9ede0d5effbc/lib/python3.9/site-packages (from pyasn1-modules>=0.2.1->google-auth>=1.0.1->kubernetes>=28.1.0->chromadb) (0.5.0)\n",
      "Requirement already satisfied: pydantic-core==2.10.1 in /local_disk0/.ephemeral_nfs/envs/pythonEnv-f190e7be-5362-4dae-bbb9-9ede0d5effbc/lib/python3.9/site-packages (from pydantic>=1.9->chromadb) (2.10.1)\n",
      "Requirement already satisfied: annotated-types>=0.4.0 in /local_disk0/.ephemeral_nfs/envs/pythonEnv-f190e7be-5362-4dae-bbb9-9ede0d5effbc/lib/python3.9/site-packages (from pydantic>=1.9->chromadb) (0.6.0)\n",
      "Requirement already satisfied: charset-normalizer<4,>=2 in /databricks/python3/lib/python3.9/site-packages (from requests>=2.28->chromadb) (2.0.4)\n",
      "Requirement already satisfied: huggingface_hub<0.18,>=0.16.4 in /local_disk0/.ephemeral_nfs/envs/pythonEnv-f190e7be-5362-4dae-bbb9-9ede0d5effbc/lib/python3.9/site-packages (from tokenizers>=0.13.2->chromadb) (0.17.3)\n",
      "Requirement already satisfied: filelock in /usr/local/lib/python3.9/dist-packages (from huggingface_hub<0.18,>=0.16.4->tokenizers>=0.13.2->chromadb) (3.9.0)\n",
      "Requirement already satisfied: fsspec in /local_disk0/.ephemeral_nfs/envs/pythonEnv-f190e7be-5362-4dae-bbb9-9ede0d5effbc/lib/python3.9/site-packages (from huggingface_hub<0.18,>=0.16.4->tokenizers>=0.13.2->chromadb) (2023.10.0)\n",
      "Requirement already satisfied: pyparsing!=3.0.5,>=2.0.2 in /databricks/python3/lib/python3.9/site-packages (from packaging->onnxruntime>=1.14.1->chromadb) (3.0.4)\n",
      "Requirement already satisfied: click<9.0.0,>=7.1.1 in /databricks/python3/lib/python3.9/site-packages (from typer>=0.9.0->chromadb) (8.0.4)\n",
      "Requirement already satisfied: h11>=0.8 in /local_disk0/.ephemeral_nfs/envs/pythonEnv-f190e7be-5362-4dae-bbb9-9ede0d5effbc/lib/python3.9/site-packages (from uvicorn[standard]>=0.18.3->chromadb) (0.14.0)\n",
      "Requirement already satisfied: websockets>=10.4 in /local_disk0/.ephemeral_nfs/envs/pythonEnv-f190e7be-5362-4dae-bbb9-9ede0d5effbc/lib/python3.9/site-packages (from uvicorn[standard]>=0.18.3->chromadb) (12.0)\n",
      "Requirement already satisfied: uvloop!=0.15.0,!=0.15.1,>=0.14.0 in /local_disk0/.ephemeral_nfs/envs/pythonEnv-f190e7be-5362-4dae-bbb9-9ede0d5effbc/lib/python3.9/site-packages (from uvicorn[standard]>=0.18.3->chromadb) (0.19.0)\n",
      "Requirement already satisfied: python-dotenv>=0.13 in /local_disk0/.ephemeral_nfs/envs/pythonEnv-f190e7be-5362-4dae-bbb9-9ede0d5effbc/lib/python3.9/site-packages (from uvicorn[standard]>=0.18.3->chromadb) (1.0.0)\n",
      "Requirement already satisfied: httptools>=0.5.0 in /local_disk0/.ephemeral_nfs/envs/pythonEnv-f190e7be-5362-4dae-bbb9-9ede0d5effbc/lib/python3.9/site-packages (from uvicorn[standard]>=0.18.3->chromadb) (0.6.1)\n",
      "Requirement already satisfied: watchfiles>=0.13 in /local_disk0/.ephemeral_nfs/envs/pythonEnv-f190e7be-5362-4dae-bbb9-9ede0d5effbc/lib/python3.9/site-packages (from uvicorn[standard]>=0.18.3->chromadb) (0.21.0)\n",
      "Requirement already satisfied: humanfriendly>=9.1 in /local_disk0/.ephemeral_nfs/envs/pythonEnv-f190e7be-5362-4dae-bbb9-9ede0d5effbc/lib/python3.9/site-packages (from coloredlogs->onnxruntime>=1.14.1->chromadb) (10.0)\n",
      "Requirement already satisfied: mpmath>=0.19 in /local_disk0/.ephemeral_nfs/envs/pythonEnv-f190e7be-5362-4dae-bbb9-9ede0d5effbc/lib/python3.9/site-packages (from sympy->onnxruntime>=1.14.1->chromadb) (1.3.0)\n",
      "Python interpreter will be restarted.\n",
      "Python interpreter will be restarted.\n",
      "Requirement already satisfied: openai in /local_disk0/.ephemeral_nfs/envs/pythonEnv-f190e7be-5362-4dae-bbb9-9ede0d5effbc/lib/python3.9/site-packages (0.28.1)\n",
      "Requirement already satisfied: tqdm in /local_disk0/.ephemeral_nfs/envs/pythonEnv-f190e7be-5362-4dae-bbb9-9ede0d5effbc/lib/python3.9/site-packages (from openai) (4.66.1)\n",
      "Requirement already satisfied: requests>=2.20 in /local_disk0/.ephemeral_nfs/envs/pythonEnv-f190e7be-5362-4dae-bbb9-9ede0d5effbc/lib/python3.9/site-packages (from openai) (2.31.0)\n",
      "Requirement already satisfied: aiohttp in /local_disk0/.ephemeral_nfs/envs/pythonEnv-f190e7be-5362-4dae-bbb9-9ede0d5effbc/lib/python3.9/site-packages (from openai) (3.8.6)\n",
      "Requirement already satisfied: idna<4,>=2.5 in /databricks/python3/lib/python3.9/site-packages (from requests>=2.20->openai) (3.3)\n",
      "Requirement already satisfied: charset-normalizer<4,>=2 in /databricks/python3/lib/python3.9/site-packages (from requests>=2.20->openai) (2.0.4)\n",
      "Requirement already satisfied: urllib3<3,>=1.21.1 in /databricks/python3/lib/python3.9/site-packages (from requests>=2.20->openai) (1.26.9)\n",
      "Requirement already satisfied: certifi>=2017.4.17 in /databricks/python3/lib/python3.9/site-packages (from requests>=2.20->openai) (2021.10.8)\n",
      "Requirement already satisfied: frozenlist>=1.1.1 in /local_disk0/.ephemeral_nfs/envs/pythonEnv-f190e7be-5362-4dae-bbb9-9ede0d5effbc/lib/python3.9/site-packages (from aiohttp->openai) (1.4.0)\n",
      "Requirement already satisfied: yarl<2.0,>=1.0 in /local_disk0/.ephemeral_nfs/envs/pythonEnv-f190e7be-5362-4dae-bbb9-9ede0d5effbc/lib/python3.9/site-packages (from aiohttp->openai) (1.9.2)\n",
      "Requirement already satisfied: async-timeout<5.0,>=4.0.0a3 in /local_disk0/.ephemeral_nfs/envs/pythonEnv-f190e7be-5362-4dae-bbb9-9ede0d5effbc/lib/python3.9/site-packages (from aiohttp->openai) (4.0.3)\n",
      "Requirement already satisfied: aiosignal>=1.1.2 in /local_disk0/.ephemeral_nfs/envs/pythonEnv-f190e7be-5362-4dae-bbb9-9ede0d5effbc/lib/python3.9/site-packages (from aiohttp->openai) (1.3.1)\n",
      "Requirement already satisfied: multidict<7.0,>=4.5 in /local_disk0/.ephemeral_nfs/envs/pythonEnv-f190e7be-5362-4dae-bbb9-9ede0d5effbc/lib/python3.9/site-packages (from aiohttp->openai) (6.0.4)\n",
      "Requirement already satisfied: attrs>=17.3.0 in /databricks/python3/lib/python3.9/site-packages (from aiohttp->openai) (21.4.0)\n",
      "Python interpreter will be restarted.\n",
      "Python interpreter will be restarted.\n",
      "Requirement already satisfied: lark in /local_disk0/.ephemeral_nfs/envs/pythonEnv-f190e7be-5362-4dae-bbb9-9ede0d5effbc/lib/python3.9/site-packages (1.1.8)\n",
      "Python interpreter will be restarted.\n"
     ]
    }
   ],
   "source": [
    "%pip install pydantic pypdf yt_dlp pydub chromadb openai lark unstructured > /dev/null\n",
    "%pip install langchain langchain-experimental openai\n",
    "%pip install pypdf \n",
    "%pip install yt_dlp\n",
    "%pip install pydub\n",
    "%pip install unstructured > /dev/null\n",
    "%pip install chromadb\n",
    "%pip install openai\n",
    "%pip install lark"
   ]
  },
  {
   "cell_type": "code",
   "execution_count": null,
   "metadata": {
    "application/vnd.databricks.v1+cell": {
     "cellMetadata": {
      "byteLimit": 2048000,
      "rowLimit": 10000
     },
     "inputWidgets": {},
     "nuid": "d1667404-2825-46fd-9cec-565db5942717",
     "showTitle": true,
     "title": "Imports"
    }
   },
   "outputs": [],
   "source": [
    "import openai\n",
    "import os\n",
    "import sys\n",
    "import uuid\n",
    "import random\n",
    "from langchain.embeddings.openai import OpenAIEmbeddings\n",
    "from langchain.text_splitter import CharacterTextSplitter, RecursiveCharacterTextSplitter\n",
    "from langchain.vectorstores import DocArrayInMemorySearch\n",
    "from langchain.document_loaders import TextLoader\n",
    "from langchain.chains import RetrievalQA,  ConversationalRetrievalChain\n",
    "from langchain.memory import ConversationBufferMemory\n",
    "from langchain.chat_models import ChatOpenAI\n",
    "from langchain.document_loaders import TextLoader\n",
    "from langchain.document_loaders import PyPDFLoader\n",
    "from langchain.document_loaders.generic import GenericLoader\n",
    "from langchain.document_loaders.parsers import OpenAIWhisperParser\n",
    "from langchain.document_loaders.blob_loaders.youtube_audio import YoutubeAudioLoader\n",
    "from langchain.llms import OpenAI\n",
    "from langchain_experimental.agents.agent_toolkits import create_spark_dataframe_agent\n",
    "from pyspark.sql.types import StructType, StructField, StringType, TimestampType\n",
    "from datetime import datetime\n"
   ]
  },
  {
   "cell_type": "code",
   "execution_count": null,
   "metadata": {
    "application/vnd.databricks.v1+cell": {
     "cellMetadata": {
      "byteLimit": 2048000,
      "rowLimit": 10000
     },
     "inputWidgets": {},
     "nuid": "de9dc204-f49d-489a-8e25-889d7cf8e9ee",
     "showTitle": false,
     "title": ""
    }
   },
   "outputs": [],
   "source": [
    "os.environ[\"OPENAI_API_KEY\"] = \"\"\n",
    "os.environ[\"LANGCHAIN_API_KEY\"] = \"\""
   ]
  }
 ],
 "metadata": {
  "application/vnd.databricks.v1+notebook": {
   "dashboards": [],
   "environmentMetadata": null,
   "language": "python",
   "notebookMetadata": {
    "pythonIndentUnit": 4
   },
   "notebookName": "configs",
   "widgets": {}
  },
  "language_info": {
   "name": "python"
  }
 },
 "nbformat": 4,
 "nbformat_minor": 0
}
