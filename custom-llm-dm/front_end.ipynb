{
 "cells": [
  {
   "cell_type": "code",
   "execution_count": 0,
   "metadata": {
    "application/vnd.databricks.v1+cell": {
     "cellMetadata": {
      "byteLimit": 2048000,
      "rowLimit": 10000
     },
     "collapsed": true,
     "inputWidgets": {},
     "nuid": "f811e34b-3d65-4c3f-8a32-fe68579ef31b",
     "showTitle": false,
     "title": ""
    }
   },
   "outputs": [],
   "source": [
    "%run ./ddl_scripts"
   ]
  },
  {
   "cell_type": "code",
   "execution_count": 0,
   "metadata": {
    "application/vnd.databricks.v1+cell": {
     "cellMetadata": {
      "byteLimit": 2048000,
      "implicitDf": true,
      "rowLimit": 10000
     },
     "inputWidgets": {},
     "nuid": "432d6b87-19e5-4a91-b42b-83c3e82f2c4f",
     "showTitle": true,
     "title": "Tabela de metadados"
    }
   },
   "outputs": [
    {
     "output_type": "display_data",
     "data": {
      "text/html": [
       "<style scoped>\n",
       "  .table-result-container {\n",
       "    max-height: 300px;\n",
       "    overflow: auto;\n",
       "  }\n",
       "  table, th, td {\n",
       "    border: 1px solid black;\n",
       "    border-collapse: collapse;\n",
       "  }\n",
       "  th, td {\n",
       "    padding: 5px;\n",
       "  }\n",
       "  th {\n",
       "    text-align: left;\n",
       "  }\n",
       "</style><div class='table-result-container'><table class='table-result'><thead style='background-color: white'><tr><th>attribute_id</th><th>attribute_refNumber</th><th>attribute_name</th><th>attribute_definition</th><th>dataSetId</th><th>dataSetName</th><th>dataset_refNumber</th><th>dataset_type</th><th>system_name</th><th>dataset_lifecycle</th><th>dataset_axon_status</th><th>system_parent_name</th><th>glossary_id</th><th>glossary_name</th><th>Tempestividade</th><th>SLO</th><th>Periodicidade</th><th>PeriododeRetenção</th><th>collectionNames</th><th>TipoInterface</th><th>datasetPublishStatus</th><th>dominio</th><th>subdominio</th><th>elemento_dados</th></tr></thead><tbody><tr><td>1</td><td>AT-0001</td><td>user_id</td><td>null</td><td>1</td><td>fct_conta_corrente</td><td>DT-0001</td><td>fct</td><td>s_cred_banco</td><td>Active</td><td>Active</td><td>ADLS</td><td>GLO-01</td><td>info_contas</td><td>1</td><td>1</td><td>1</td><td>720</td><td>info_contas</td><td>Cloud</td><td>Published</td><td>finanças</td><td>finanças</td><td>info_contas</td></tr><tr><td>2</td><td>AT-0002</td><td>cpf</td><td>null</td><td>1</td><td>fct_conta_corrente</td><td>DT-0001</td><td>fct</td><td>s_cred_banco</td><td>Active</td><td>Active</td><td>ADLS</td><td>GLO-01</td><td>info_contas</td><td>1</td><td>1</td><td>1</td><td>720</td><td>info_contas</td><td>Cloud</td><td>Published</td><td>finanças</td><td>finanças</td><td>info_contas</td></tr><tr><td>3</td><td>AT-0003</td><td>telefone</td><td>null</td><td>2</td><td>dim_info_cliente</td><td>DT-0002</td><td>dim</td><td>s_info</td><td>Active</td><td>Active</td><td>ADLS</td><td>GLO-02</td><td>infos_clientes</td><td>1</td><td>1</td><td>1</td><td>500</td><td>infos_clientes</td><td>Cloud</td><td>Published</td><td>crm</td><td>crm</td><td>infos_clientes</td></tr><tr><td>4</td><td>AT-0004</td><td>email</td><td>null</td><td>2</td><td>dim_info_cliente</td><td>DT-0002</td><td>dim</td><td>s_info</td><td>Active</td><td>Active</td><td>ADLS</td><td>GLO-02</td><td>infos_clientes</td><td>1</td><td>1</td><td>1</td><td>500</td><td>infos_clientes</td><td>Cloud</td><td>Published</td><td>crm</td><td>crm</td><td>infos_clientes</td></tr><tr><td>5</td><td>AT-0005</td><td>endereço</td><td>null</td><td>2</td><td>dim_info_cliente</td><td>DT-0002</td><td>dim</td><td>s_info</td><td>Active</td><td>Active</td><td>ADLS</td><td>GLO-02</td><td>infos_clientes</td><td>1</td><td>1</td><td>1</td><td>500</td><td>infos_clientes</td><td>Cloud</td><td>Published</td><td>crm</td><td>crm</td><td>infos_clientes</td></tr><tr><td>6</td><td>AT-0006</td><td>ocupacao</td><td>null</td><td>2</td><td>dim_info_cliente</td><td>DT-0002</td><td>dim</td><td>s_info</td><td>Active</td><td>Active</td><td>ADLS</td><td>GLO-02</td><td>infos_clientes</td><td>1</td><td>1</td><td>1</td><td>500</td><td>infos_clientes</td><td>Cloud</td><td>Published</td><td>crm</td><td>crm</td><td>infos_clientes</td></tr><tr><td>7</td><td>AT-0007</td><td>escolaridade</td><td>null</td><td>2</td><td>dim_info_cliente</td><td>DT-0002</td><td>dim</td><td>s_info</td><td>Active</td><td>Active</td><td>ADLS</td><td>GLO-02</td><td>infos_clientes</td><td>1</td><td>1</td><td>1</td><td>500</td><td>infos_clientes</td><td>Cloud</td><td>Published</td><td>crm</td><td>crm</td><td>infos_clientes</td></tr><tr><td>8</td><td>AT-0008</td><td>nome_da_mae</td><td>null</td><td>2</td><td>dim_info_cliente</td><td>DT-0002</td><td>dim</td><td>s_info</td><td>Active</td><td>Active</td><td>ADLS</td><td>GLO-02</td><td>infos_clientes</td><td>1</td><td>1</td><td>1</td><td>500</td><td>infos_clientes</td><td>Cloud</td><td>Published</td><td>crm</td><td>crm</td><td>infos_clientes</td></tr><tr><td>9</td><td>AT-0009</td><td>nome_do_pai</td><td>null</td><td>2</td><td>dim_info_cliente</td><td>DT-0002</td><td>dim</td><td>s_info</td><td>Active</td><td>Active</td><td>ADLS</td><td>GLO-02</td><td>infos_clientes</td><td>1</td><td>1</td><td>1</td><td>500</td><td>infos_clientes</td><td>Cloud</td><td>Published</td><td>crm</td><td>crm</td><td>infos_clientes</td></tr><tr><td>10</td><td>AT-0010</td><td>estado_civil</td><td>null</td><td>2</td><td>dim_info_cliente</td><td>DT-0002</td><td>dim</td><td>s_info</td><td>Active</td><td>Active</td><td>ADLS</td><td>GLO-02</td><td>infos_clientes</td><td>1</td><td>1</td><td>1</td><td>500</td><td>infos_clientes</td><td>Cloud</td><td>Published</td><td>crm</td><td>crm</td><td>infos_clientes</td></tr><tr><td>11</td><td>AT-0011</td><td>genero</td><td>null</td><td>2</td><td>dim_info_cliente</td><td>DT-0002</td><td>dim</td><td>s_info</td><td>Active</td><td>Active</td><td>ADLS</td><td>GLO-02</td><td>infos_clientes</td><td>1</td><td>1</td><td>1</td><td>500</td><td>infos_clientes</td><td>Cloud</td><td>Published</td><td>crm</td><td>crm</td><td>infos_clientes</td></tr><tr><td>12</td><td>AT-0012</td><td>saldo</td><td>null</td><td>1</td><td>fct_conta_corrente</td><td>DT-0001</td><td>fct</td><td>s_cred_banco</td><td>Active</td><td>Active</td><td>ADLS</td><td>GLO-01</td><td>info_contas</td><td>1</td><td>1</td><td>1</td><td>720</td><td>info_contas</td><td>Cloud</td><td>Published</td><td>finanças</td><td>finanças</td><td>info_contas</td></tr><tr><td>13</td><td>AT-0013</td><td>credito</td><td>null</td><td>1</td><td>fct_conta_corrente</td><td>DT-0001</td><td>fct</td><td>s_cred_banco</td><td>Active</td><td>Active</td><td>ADLS</td><td>GLO-01</td><td>info_contas</td><td>1</td><td>1</td><td>1</td><td>720</td><td>info_contas</td><td>Cloud</td><td>Published</td><td>finanças</td><td>finanças</td><td>info_contas</td></tr><tr><td>14</td><td>AT-0014</td><td>periodo_contrato</td><td>null</td><td>1</td><td>fct_conta_corrente</td><td>DT-0001</td><td>fct</td><td>s_cred_banco</td><td>Active</td><td>Active</td><td>ADLS</td><td>GLO-01</td><td>info_contas</td><td>1</td><td>1</td><td>1</td><td>720</td><td>info_contas</td><td>Cloud</td><td>Published</td><td>finanças</td><td>finanças</td><td>info_contas</td></tr><tr><td>15</td><td>AT-0015</td><td>tipo_contrato</td><td>null</td><td>1</td><td>fct_conta_corrente</td><td>DT-0001</td><td>fct</td><td>s_cred_banco</td><td>Active</td><td>Active</td><td>ADLS</td><td>GLO-01</td><td>info_contas</td><td>1</td><td>1</td><td>1</td><td>720</td><td>info_contas</td><td>Cloud</td><td>Published</td><td>finanças</td><td>finanças</td><td>info_contas</td></tr><tr><td>16</td><td>AT-0016</td><td>agencia</td><td>null</td><td>1</td><td>fct_conta_corrente</td><td>DT-0001</td><td>fct</td><td>s_cred_banco</td><td>Active</td><td>Active</td><td>ADLS</td><td>GLO-01</td><td>info_contas</td><td>1</td><td>1</td><td>1</td><td>720</td><td>info_contas</td><td>Cloud</td><td>Published</td><td>finanças</td><td>finanças</td><td>info_contas</td></tr><tr><td>17</td><td>AT-0017</td><td>gerente</td><td>null</td><td>1</td><td>fct_conta_corrente</td><td>DT-0001</td><td>fct</td><td>s_cred_banco</td><td>Active</td><td>Active</td><td>ADLS</td><td>GLO-01</td><td>info_contas</td><td>1</td><td>1</td><td>1</td><td>720</td><td>info_contas</td><td>Cloud</td><td>Published</td><td>finanças</td><td>finanças</td><td>info_contas</td></tr><tr><td>18</td><td>AT-0018</td><td>prioridade</td><td>null</td><td>2</td><td>dim_info_cliente</td><td>DT-0002</td><td>dim</td><td>s_info</td><td>Active</td><td>Active</td><td>ADLS</td><td>GLO-02</td><td>infos_clientes</td><td>1</td><td>1</td><td>1</td><td>500</td><td>infos_clientes</td><td>Cloud</td><td>Published</td><td>crm</td><td>crm</td><td>infos_clientes</td></tr><tr><td>19</td><td>AT-0019</td><td>data_carga</td><td>null</td><td>1</td><td>fct_conta_corrente</td><td>DT-0001</td><td>fct</td><td>s_cred_banco</td><td>Active</td><td>Active</td><td>ADLS</td><td>GLO-01</td><td>info_contas</td><td>1</td><td>1</td><td>1</td><td>720</td><td>info_contas</td><td>Cloud</td><td>Published</td><td>finanças</td><td>finanças</td><td>info_contas</td></tr><tr><td>20</td><td>AT-0020</td><td>periodo_retencao</td><td>null</td><td>1</td><td>fct_conta_corrente</td><td>DT-0001</td><td>fct</td><td>s_cred_banco</td><td>Active</td><td>Active</td><td>ADLS</td><td>GLO-01</td><td>info_contas</td><td>1</td><td>1</td><td>1</td><td>720</td><td>info_contas</td><td>Cloud</td><td>Published</td><td>finanças</td><td>finanças</td><td>info_contas</td></tr></tbody></table></div>"
      ]
     },
     "metadata": {
      "application/vnd.databricks.v1+output": {
       "addedWidgets": {},
       "aggData": [],
       "aggError": "",
       "aggOverflow": false,
       "aggSchema": [],
       "aggSeriesLimitReached": false,
       "aggType": "",
       "arguments": {},
       "columnCustomDisplayInfos": {},
       "data": [
        [
         "1",
         "AT-0001",
         "user_id",
         "null",
         "1",
         "fct_conta_corrente",
         "DT-0001",
         "fct",
         "s_cred_banco",
         "Active",
         "Active",
         "ADLS",
         "GLO-01",
         "info_contas",
         "1",
         "1",
         "1",
         "720",
         "info_contas",
         "Cloud",
         "Published",
         "finanças",
         "finanças",
         "info_contas"
        ],
        [
         "2",
         "AT-0002",
         "cpf",
         "null",
         "1",
         "fct_conta_corrente",
         "DT-0001",
         "fct",
         "s_cred_banco",
         "Active",
         "Active",
         "ADLS",
         "GLO-01",
         "info_contas",
         "1",
         "1",
         "1",
         "720",
         "info_contas",
         "Cloud",
         "Published",
         "finanças",
         "finanças",
         "info_contas"
        ],
        [
         "3",
         "AT-0003",
         "telefone",
         "null",
         "2",
         "dim_info_cliente",
         "DT-0002",
         "dim",
         "s_info",
         "Active",
         "Active",
         "ADLS",
         "GLO-02",
         "infos_clientes",
         "1",
         "1",
         "1",
         "500",
         "infos_clientes",
         "Cloud",
         "Published",
         "crm",
         "crm",
         "infos_clientes"
        ],
        [
         "4",
         "AT-0004",
         "email",
         "null",
         "2",
         "dim_info_cliente",
         "DT-0002",
         "dim",
         "s_info",
         "Active",
         "Active",
         "ADLS",
         "GLO-02",
         "infos_clientes",
         "1",
         "1",
         "1",
         "500",
         "infos_clientes",
         "Cloud",
         "Published",
         "crm",
         "crm",
         "infos_clientes"
        ],
        [
         "5",
         "AT-0005",
         "endereço",
         "null",
         "2",
         "dim_info_cliente",
         "DT-0002",
         "dim",
         "s_info",
         "Active",
         "Active",
         "ADLS",
         "GLO-02",
         "infos_clientes",
         "1",
         "1",
         "1",
         "500",
         "infos_clientes",
         "Cloud",
         "Published",
         "crm",
         "crm",
         "infos_clientes"
        ],
        [
         "6",
         "AT-0006",
         "ocupacao",
         "null",
         "2",
         "dim_info_cliente",
         "DT-0002",
         "dim",
         "s_info",
         "Active",
         "Active",
         "ADLS",
         "GLO-02",
         "infos_clientes",
         "1",
         "1",
         "1",
         "500",
         "infos_clientes",
         "Cloud",
         "Published",
         "crm",
         "crm",
         "infos_clientes"
        ],
        [
         "7",
         "AT-0007",
         "escolaridade",
         "null",
         "2",
         "dim_info_cliente",
         "DT-0002",
         "dim",
         "s_info",
         "Active",
         "Active",
         "ADLS",
         "GLO-02",
         "infos_clientes",
         "1",
         "1",
         "1",
         "500",
         "infos_clientes",
         "Cloud",
         "Published",
         "crm",
         "crm",
         "infos_clientes"
        ],
        [
         "8",
         "AT-0008",
         "nome_da_mae",
         "null",
         "2",
         "dim_info_cliente",
         "DT-0002",
         "dim",
         "s_info",
         "Active",
         "Active",
         "ADLS",
         "GLO-02",
         "infos_clientes",
         "1",
         "1",
         "1",
         "500",
         "infos_clientes",
         "Cloud",
         "Published",
         "crm",
         "crm",
         "infos_clientes"
        ],
        [
         "9",
         "AT-0009",
         "nome_do_pai",
         "null",
         "2",
         "dim_info_cliente",
         "DT-0002",
         "dim",
         "s_info",
         "Active",
         "Active",
         "ADLS",
         "GLO-02",
         "infos_clientes",
         "1",
         "1",
         "1",
         "500",
         "infos_clientes",
         "Cloud",
         "Published",
         "crm",
         "crm",
         "infos_clientes"
        ],
        [
         "10",
         "AT-0010",
         "estado_civil",
         "null",
         "2",
         "dim_info_cliente",
         "DT-0002",
         "dim",
         "s_info",
         "Active",
         "Active",
         "ADLS",
         "GLO-02",
         "infos_clientes",
         "1",
         "1",
         "1",
         "500",
         "infos_clientes",
         "Cloud",
         "Published",
         "crm",
         "crm",
         "infos_clientes"
        ],
        [
         "11",
         "AT-0011",
         "genero",
         "null",
         "2",
         "dim_info_cliente",
         "DT-0002",
         "dim",
         "s_info",
         "Active",
         "Active",
         "ADLS",
         "GLO-02",
         "infos_clientes",
         "1",
         "1",
         "1",
         "500",
         "infos_clientes",
         "Cloud",
         "Published",
         "crm",
         "crm",
         "infos_clientes"
        ],
        [
         "12",
         "AT-0012",
         "saldo",
         "null",
         "1",
         "fct_conta_corrente",
         "DT-0001",
         "fct",
         "s_cred_banco",
         "Active",
         "Active",
         "ADLS",
         "GLO-01",
         "info_contas",
         "1",
         "1",
         "1",
         "720",
         "info_contas",
         "Cloud",
         "Published",
         "finanças",
         "finanças",
         "info_contas"
        ],
        [
         "13",
         "AT-0013",
         "credito",
         "null",
         "1",
         "fct_conta_corrente",
         "DT-0001",
         "fct",
         "s_cred_banco",
         "Active",
         "Active",
         "ADLS",
         "GLO-01",
         "info_contas",
         "1",
         "1",
         "1",
         "720",
         "info_contas",
         "Cloud",
         "Published",
         "finanças",
         "finanças",
         "info_contas"
        ],
        [
         "14",
         "AT-0014",
         "periodo_contrato",
         "null",
         "1",
         "fct_conta_corrente",
         "DT-0001",
         "fct",
         "s_cred_banco",
         "Active",
         "Active",
         "ADLS",
         "GLO-01",
         "info_contas",
         "1",
         "1",
         "1",
         "720",
         "info_contas",
         "Cloud",
         "Published",
         "finanças",
         "finanças",
         "info_contas"
        ],
        [
         "15",
         "AT-0015",
         "tipo_contrato",
         "null",
         "1",
         "fct_conta_corrente",
         "DT-0001",
         "fct",
         "s_cred_banco",
         "Active",
         "Active",
         "ADLS",
         "GLO-01",
         "info_contas",
         "1",
         "1",
         "1",
         "720",
         "info_contas",
         "Cloud",
         "Published",
         "finanças",
         "finanças",
         "info_contas"
        ],
        [
         "16",
         "AT-0016",
         "agencia",
         "null",
         "1",
         "fct_conta_corrente",
         "DT-0001",
         "fct",
         "s_cred_banco",
         "Active",
         "Active",
         "ADLS",
         "GLO-01",
         "info_contas",
         "1",
         "1",
         "1",
         "720",
         "info_contas",
         "Cloud",
         "Published",
         "finanças",
         "finanças",
         "info_contas"
        ],
        [
         "17",
         "AT-0017",
         "gerente",
         "null",
         "1",
         "fct_conta_corrente",
         "DT-0001",
         "fct",
         "s_cred_banco",
         "Active",
         "Active",
         "ADLS",
         "GLO-01",
         "info_contas",
         "1",
         "1",
         "1",
         "720",
         "info_contas",
         "Cloud",
         "Published",
         "finanças",
         "finanças",
         "info_contas"
        ],
        [
         "18",
         "AT-0018",
         "prioridade",
         "null",
         "2",
         "dim_info_cliente",
         "DT-0002",
         "dim",
         "s_info",
         "Active",
         "Active",
         "ADLS",
         "GLO-02",
         "infos_clientes",
         "1",
         "1",
         "1",
         "500",
         "infos_clientes",
         "Cloud",
         "Published",
         "crm",
         "crm",
         "infos_clientes"
        ],
        [
         "19",
         "AT-0019",
         "data_carga",
         "null",
         "1",
         "fct_conta_corrente",
         "DT-0001",
         "fct",
         "s_cred_banco",
         "Active",
         "Active",
         "ADLS",
         "GLO-01",
         "info_contas",
         "1",
         "1",
         "1",
         "720",
         "info_contas",
         "Cloud",
         "Published",
         "finanças",
         "finanças",
         "info_contas"
        ],
        [
         "20",
         "AT-0020",
         "periodo_retencao",
         "null",
         "1",
         "fct_conta_corrente",
         "DT-0001",
         "fct",
         "s_cred_banco",
         "Active",
         "Active",
         "ADLS",
         "GLO-01",
         "info_contas",
         "1",
         "1",
         "1",
         "720",
         "info_contas",
         "Cloud",
         "Published",
         "finanças",
         "finanças",
         "info_contas"
        ]
       ],
       "datasetInfos": [],
       "dbfsResultPath": null,
       "isJsonSchema": true,
       "metadata": {},
       "overflow": false,
       "plotOptions": {
        "customPlotOptions": {},
        "displayType": "table",
        "pivotAggregation": null,
        "pivotColumns": null,
        "xColumns": null,
        "yColumns": null
       },
       "removedWidgets": [],
       "schema": [
        {
         "metadata": "{}",
         "name": "attribute_id",
         "type": "\"string\""
        },
        {
         "metadata": "{}",
         "name": "attribute_refNumber",
         "type": "\"string\""
        },
        {
         "metadata": "{}",
         "name": "attribute_name",
         "type": "\"string\""
        },
        {
         "metadata": "{}",
         "name": "attribute_definition",
         "type": "\"string\""
        },
        {
         "metadata": "{}",
         "name": "dataSetId",
         "type": "\"string\""
        },
        {
         "metadata": "{}",
         "name": "dataSetName",
         "type": "\"string\""
        },
        {
         "metadata": "{}",
         "name": "dataset_refNumber",
         "type": "\"string\""
        },
        {
         "metadata": "{}",
         "name": "dataset_type",
         "type": "\"string\""
        },
        {
         "metadata": "{}",
         "name": "system_name",
         "type": "\"string\""
        },
        {
         "metadata": "{}",
         "name": "dataset_lifecycle",
         "type": "\"string\""
        },
        {
         "metadata": "{}",
         "name": "dataset_axon_status",
         "type": "\"string\""
        },
        {
         "metadata": "{}",
         "name": "system_parent_name",
         "type": "\"string\""
        },
        {
         "metadata": "{}",
         "name": "glossary_id",
         "type": "\"string\""
        },
        {
         "metadata": "{}",
         "name": "glossary_name",
         "type": "\"string\""
        },
        {
         "metadata": "{}",
         "name": "Tempestividade",
         "type": "\"string\""
        },
        {
         "metadata": "{}",
         "name": "SLO",
         "type": "\"string\""
        },
        {
         "metadata": "{}",
         "name": "Periodicidade",
         "type": "\"string\""
        },
        {
         "metadata": "{}",
         "name": "PeriododeRetenção",
         "type": "\"string\""
        },
        {
         "metadata": "{}",
         "name": "collectionNames",
         "type": "\"string\""
        },
        {
         "metadata": "{}",
         "name": "TipoInterface",
         "type": "\"string\""
        },
        {
         "metadata": "{}",
         "name": "datasetPublishStatus",
         "type": "\"string\""
        },
        {
         "metadata": "{}",
         "name": "dominio",
         "type": "\"string\""
        },
        {
         "metadata": "{}",
         "name": "subdominio",
         "type": "\"string\""
        },
        {
         "metadata": "{}",
         "name": "elemento_dados",
         "type": "\"string\""
        }
       ],
       "type": "table"
      }
     },
     "output_type": "display_data"
    }
   ],
   "source": [
    "%sql\n",
    "SELECT *\n",
    "FROM llm.metadata_table"
   ]
  },
  {
   "cell_type": "code",
   "execution_count": 0,
   "metadata": {
    "application/vnd.databricks.v1+cell": {
     "cellMetadata": {
      "byteLimit": 2048000,
      "rowLimit": 10000
     },
     "inputWidgets": {},
     "nuid": "9d602eb3-7f4b-40ec-85a5-05bbaf912154",
     "showTitle": false,
     "title": ""
    }
   },
   "outputs": [
    {
     "output_type": "display_data",
     "data": {
      "text/html": [
       "<h3 style='font-size: 32px;'>Você pode fazer perguntas a respeito das seguintes informações:</h3>"
      ]
     },
     "metadata": {
      "application/vnd.databricks.v1+output": {
       "addedWidgets": {},
       "arguments": {},
       "data": "<h3 style='font-size: 32px;'>Você pode fazer perguntas a respeito das seguintes informações:</h3>",
       "datasetInfos": [],
       "metadata": {},
       "removedWidgets": [],
       "textData": null,
       "type": "htmlSandbox"
      }
     },
     "output_type": "display_data"
    },
    {
     "output_type": "display_data",
     "data": {
      "text/html": [
       "<ul style='font-size: 18px;'><li>attribute_id</li><li>attribute_refNumber</li><li>attribute_name</li><li>attribute_definition</li><li>dataSetId</li><li>dataSetName</li><li>dataset_refNumber</li><li>dataset_type</li><li>system_name</li><li>dataset_lifecycle</li><li>dataset_axon_status</li><li>system_parent_name</li><li>glossary_id</li><li>glossary_name</li><li>Tempestividade</li><li>SLO</li><li>Periodicidade</li><li>PeriododeRetenção</li><li>collectionNames</li><li>TipoInterface</li><li>datasetPublishStatus</li><li>dominio</li><li>subdominio</li><li>elemento_dados</li></ul>"
      ]
     },
     "metadata": {
      "application/vnd.databricks.v1+output": {
       "addedWidgets": {},
       "arguments": {},
       "data": "<ul style='font-size: 18px;'><li>attribute_id</li><li>attribute_refNumber</li><li>attribute_name</li><li>attribute_definition</li><li>dataSetId</li><li>dataSetName</li><li>dataset_refNumber</li><li>dataset_type</li><li>system_name</li><li>dataset_lifecycle</li><li>dataset_axon_status</li><li>system_parent_name</li><li>glossary_id</li><li>glossary_name</li><li>Tempestividade</li><li>SLO</li><li>Periodicidade</li><li>PeriododeRetenção</li><li>collectionNames</li><li>TipoInterface</li><li>datasetPublishStatus</li><li>dominio</li><li>subdominio</li><li>elemento_dados</li></ul>",
       "datasetInfos": [],
       "metadata": {},
       "removedWidgets": [],
       "textData": null,
       "type": "htmlSandbox"
      }
     },
     "output_type": "display_data"
    },
    {
     "output_type": "display_data",
     "data": {
      "text/html": [
       "<h3 style='font-size: 32px;'>A resposta aparecerá no final do Notebook quando o processamento terminar.</h3>"
      ]
     },
     "metadata": {
      "application/vnd.databricks.v1+output": {
       "addedWidgets": {},
       "arguments": {},
       "data": "<h3 style='font-size: 32px;'>A resposta aparecerá no final do Notebook quando o processamento terminar.</h3>",
       "datasetInfos": [],
       "metadata": {},
       "removedWidgets": [],
       "textData": null,
       "type": "htmlSandbox"
      }
     },
     "output_type": "display_data"
    },
    {
     "output_type": "display_data",
     "data": {
      "text/html": [
       "<h3 style='font-size: 18px;'>Exemplo de perguntas:</h3>"
      ]
     },
     "metadata": {
      "application/vnd.databricks.v1+output": {
       "addedWidgets": {},
       "arguments": {},
       "data": "<h3 style='font-size: 18px;'>Exemplo de perguntas:</h3>",
       "datasetInfos": [],
       "metadata": {},
       "removedWidgets": [],
       "textData": null,
       "type": "htmlSandbox"
      }
     },
     "output_type": "display_data"
    },
    {
     "output_type": "display_data",
     "data": {
      "text/html": [
       "<style='font-size: 14px;'>Existe algum dado na coluna PeriododeRetenção maior que 500 ? Se sim, quais?"
      ]
     },
     "metadata": {
      "application/vnd.databricks.v1+output": {
       "addedWidgets": {},
       "arguments": {},
       "data": "<style='font-size: 14px;'>Existe algum dado na coluna PeriododeRetenção maior que 500 ? Se sim, quais?",
       "datasetInfos": [],
       "metadata": {},
       "removedWidgets": [],
       "textData": null,
       "type": "htmlSandbox"
      }
     },
     "output_type": "display_data"
    },
    {
     "output_type": "display_data",
     "data": {
      "text/html": [
       "<style='font-size: 14px;'>Existe algum PII na coluna attribute_name ? Se sim, quais?"
      ]
     },
     "metadata": {
      "application/vnd.databricks.v1+output": {
       "addedWidgets": {},
       "arguments": {},
       "data": "<style='font-size: 14px;'>Existe algum PII na coluna attribute_name ? Se sim, quais?",
       "datasetInfos": [],
       "metadata": {},
       "removedWidgets": [],
       "textData": null,
       "type": "htmlSandbox"
      }
     },
     "output_type": "display_data"
    },
    {
     "output_type": "display_data",
     "data": {
      "text/html": [
       "<style='font-size: 14px;'>Qual a quantidade de glossary_name distintos?"
      ]
     },
     "metadata": {
      "application/vnd.databricks.v1+output": {
       "addedWidgets": {},
       "arguments": {},
       "data": "<style='font-size: 14px;'>Qual a quantidade de glossary_name distintos?",
       "datasetInfos": [],
       "metadata": {},
       "removedWidgets": [],
       "textData": null,
       "type": "htmlSandbox"
      }
     },
     "output_type": "display_data"
    },
    {
     "output_type": "stream",
     "name": "stdout",
     "output_type": "stream",
     "text": [
      "Python interpreter will be restarted.\nERROR: pip's dependency resolver does not currently take into account all the packages that are installed. This behaviour is the source of the following dependency conflicts.\nscipy 1.7.3 requires numpy<1.23.0,>=1.16.5, but you have numpy 1.26.4 which is incompatible.\nbotocore 1.24.32 requires urllib3<1.27,>=1.25.4, but you have urllib3 2.2.1 which is incompatible.\nPython interpreter will be restarted.\nPython interpreter will be restarted.\nCollecting langchain\n  Downloading langchain-0.2.2-py3-none-any.whl (973 kB)\nCollecting langchain-experimental\n  Downloading langchain_experimental-0.0.60-py3-none-any.whl (199 kB)\nRequirement already satisfied: openai in /local_disk0/.ephemeral_nfs/envs/pythonEnv-03f8a137-8fc7-40e2-a4d5-d7c5962b4be8/lib/python3.9/site-packages (1.31.0)\nCollecting langchain-text-splitters<0.3.0,>=0.2.0\n  Downloading langchain_text_splitters-0.2.1-py3-none-any.whl (23 kB)\nCollecting langchain-core<0.3.0,>=0.2.0\n  Downloading langchain_core-0.2.4-py3-none-any.whl (310 kB)\nRequirement already satisfied: tenacity<9.0.0,>=8.1.0 in /local_disk0/.ephemeral_nfs/envs/pythonEnv-03f8a137-8fc7-40e2-a4d5-d7c5962b4be8/lib/python3.9/site-packages (from langchain) (8.3.0)\nRequirement already satisfied: PyYAML>=5.3 in /local_disk0/.ephemeral_nfs/envs/pythonEnv-03f8a137-8fc7-40e2-a4d5-d7c5962b4be8/lib/python3.9/site-packages (from langchain) (6.0.1)\nCollecting SQLAlchemy<3,>=1.4\n  Downloading SQLAlchemy-2.0.30-cp39-cp39-manylinux_2_17_x86_64.manylinux2014_x86_64.whl (3.1 MB)\nRequirement already satisfied: numpy<2,>=1 in /local_disk0/.ephemeral_nfs/envs/pythonEnv-03f8a137-8fc7-40e2-a4d5-d7c5962b4be8/lib/python3.9/site-packages (from langchain) (1.26.4)\nRequirement already satisfied: pydantic<3,>=1 in /local_disk0/.ephemeral_nfs/envs/pythonEnv-03f8a137-8fc7-40e2-a4d5-d7c5962b4be8/lib/python3.9/site-packages (from langchain) (2.7.3)\nCollecting langsmith<0.2.0,>=0.1.17\n  Downloading langsmith-0.1.69-py3-none-any.whl (124 kB)\nRequirement already satisfied: requests<3,>=2 in /local_disk0/.ephemeral_nfs/envs/pythonEnv-03f8a137-8fc7-40e2-a4d5-d7c5962b4be8/lib/python3.9/site-packages (from langchain) (2.32.3)\nCollecting aiohttp<4.0.0,>=3.8.3\n  Downloading aiohttp-3.9.5-cp39-cp39-manylinux_2_17_x86_64.manylinux2014_x86_64.whl (1.2 MB)\nCollecting async-timeout<5.0.0,>=4.0.0\n  Downloading async_timeout-4.0.3-py3-none-any.whl (5.7 kB)\nCollecting langchain-community<0.3,>=0.2\n  Downloading langchain_community-0.2.2-py3-none-any.whl (2.2 MB)\nRequirement already satisfied: tqdm>4 in /local_disk0/.ephemeral_nfs/envs/pythonEnv-03f8a137-8fc7-40e2-a4d5-d7c5962b4be8/lib/python3.9/site-packages (from openai) (4.66.4)\nRequirement already satisfied: httpx<1,>=0.23.0 in /local_disk0/.ephemeral_nfs/envs/pythonEnv-03f8a137-8fc7-40e2-a4d5-d7c5962b4be8/lib/python3.9/site-packages (from openai) (0.27.0)\nRequirement already satisfied: distro<2,>=1.7.0 in /local_disk0/.ephemeral_nfs/envs/pythonEnv-03f8a137-8fc7-40e2-a4d5-d7c5962b4be8/lib/python3.9/site-packages (from openai) (1.9.0)\nRequirement already satisfied: sniffio in /local_disk0/.ephemeral_nfs/envs/pythonEnv-03f8a137-8fc7-40e2-a4d5-d7c5962b4be8/lib/python3.9/site-packages (from openai) (1.3.1)\nRequirement already satisfied: anyio<5,>=3.5.0 in /local_disk0/.ephemeral_nfs/envs/pythonEnv-03f8a137-8fc7-40e2-a4d5-d7c5962b4be8/lib/python3.9/site-packages (from openai) (4.4.0)\nRequirement already satisfied: typing-extensions<5,>=4.7 in /local_disk0/.ephemeral_nfs/envs/pythonEnv-03f8a137-8fc7-40e2-a4d5-d7c5962b4be8/lib/python3.9/site-packages (from openai) (4.12.1)\nCollecting frozenlist>=1.1.1\n  Downloading frozenlist-1.4.1-cp39-cp39-manylinux_2_5_x86_64.manylinux1_x86_64.manylinux_2_17_x86_64.manylinux2014_x86_64.whl (240 kB)\nCollecting yarl<2.0,>=1.0\n  Downloading yarl-1.9.4-cp39-cp39-manylinux_2_17_x86_64.manylinux2014_x86_64.whl (304 kB)\nCollecting aiosignal>=1.1.2\n  Downloading aiosignal-1.3.1-py3-none-any.whl (7.6 kB)\nCollecting multidict<7.0,>=4.5\n  Downloading multidict-6.0.5-cp39-cp39-manylinux_2_17_x86_64.manylinux2014_x86_64.whl (123 kB)\nRequirement already satisfied: attrs>=17.3.0 in /databricks/python3/lib/python3.9/site-packages (from aiohttp<4.0.0,>=3.8.3->langchain) (21.4.0)\nRequirement already satisfied: idna>=2.8 in /local_disk0/.ephemeral_nfs/envs/pythonEnv-03f8a137-8fc7-40e2-a4d5-d7c5962b4be8/lib/python3.9/site-packages (from anyio<5,>=3.5.0->openai) (3.7)\nRequirement already satisfied: exceptiongroup>=1.0.2 in /local_disk0/.ephemeral_nfs/envs/pythonEnv-03f8a137-8fc7-40e2-a4d5-d7c5962b4be8/lib/python3.9/site-packages (from anyio<5,>=3.5.0->openai) (1.2.1)\nRequirement already satisfied: httpcore==1.* in /local_disk0/.ephemeral_nfs/envs/pythonEnv-03f8a137-8fc7-40e2-a4d5-d7c5962b4be8/lib/python3.9/site-packages (from httpx<1,>=0.23.0->openai) (1.0.5)\nRequirement already satisfied: certifi in /local_disk0/.ephemeral_nfs/envs/pythonEnv-03f8a137-8fc7-40e2-a4d5-d7c5962b4be8/lib/python3.9/site-packages (from httpx<1,>=0.23.0->openai) (2024.6.2)\nRequirement already satisfied: h11<0.15,>=0.13 in /local_disk0/.ephemeral_nfs/envs/pythonEnv-03f8a137-8fc7-40e2-a4d5-d7c5962b4be8/lib/python3.9/site-packages (from httpcore==1.*->httpx<1,>=0.23.0->openai) (0.14.0)\nRequirement already satisfied: dataclasses-json<0.7,>=0.5.7 in /local_disk0/.ephemeral_nfs/envs/pythonEnv-03f8a137-8fc7-40e2-a4d5-d7c5962b4be8/lib/python3.9/site-packages (from langchain-community<0.3,>=0.2->langchain-experimental) (0.6.6)\nRequirement already satisfied: typing-inspect<1,>=0.4.0 in /local_disk0/.ephemeral_nfs/envs/pythonEnv-03f8a137-8fc7-40e2-a4d5-d7c5962b4be8/lib/python3.9/site-packages (from dataclasses-json<0.7,>=0.5.7->langchain-community<0.3,>=0.2->langchain-experimental) (0.9.0)\nRequirement already satisfied: marshmallow<4.0.0,>=3.18.0 in /local_disk0/.ephemeral_nfs/envs/pythonEnv-03f8a137-8fc7-40e2-a4d5-d7c5962b4be8/lib/python3.9/site-packages (from dataclasses-json<0.7,>=0.5.7->langchain-community<0.3,>=0.2->langchain-experimental) (3.21.2)\nCollecting packaging<24.0,>=23.2\n  Using cached packaging-23.2-py3-none-any.whl (53 kB)\nCollecting jsonpatch<2.0,>=1.33\n  Downloading jsonpatch-1.33-py2.py3-none-any.whl (12 kB)\nCollecting jsonpointer>=1.9\n  Downloading jsonpointer-2.4-py2.py3-none-any.whl (7.8 kB)\nRequirement already satisfied: orjson<4.0.0,>=3.9.14 in /local_disk0/.ephemeral_nfs/envs/pythonEnv-03f8a137-8fc7-40e2-a4d5-d7c5962b4be8/lib/python3.9/site-packages (from langsmith<0.2.0,>=0.1.17->langchain) (3.10.3)\nRequirement already satisfied: annotated-types>=0.4.0 in /local_disk0/.ephemeral_nfs/envs/pythonEnv-03f8a137-8fc7-40e2-a4d5-d7c5962b4be8/lib/python3.9/site-packages (from pydantic<3,>=1->langchain) (0.7.0)\nRequirement already satisfied: pydantic-core==2.18.4 in /local_disk0/.ephemeral_nfs/envs/pythonEnv-03f8a137-8fc7-40e2-a4d5-d7c5962b4be8/lib/python3.9/site-packages (from pydantic<3,>=1->langchain) (2.18.4)\nRequirement already satisfied: charset-normalizer<4,>=2 in /local_disk0/.ephemeral_nfs/envs/pythonEnv-03f8a137-8fc7-40e2-a4d5-d7c5962b4be8/lib/python3.9/site-packages (from requests<3,>=2->langchain) (3.3.2)\nRequirement already satisfied: urllib3<3,>=1.21.1 in /local_disk0/.ephemeral_nfs/envs/pythonEnv-03f8a137-8fc7-40e2-a4d5-d7c5962b4be8/lib/python3.9/site-packages (from requests<3,>=2->langchain) (2.2.1)\nCollecting greenlet!=0.4.17\n  Downloading greenlet-3.0.3-cp39-cp39-manylinux_2_24_x86_64.manylinux_2_28_x86_64.whl (614 kB)\nRequirement already satisfied: mypy-extensions>=0.3.0 in /local_disk0/.ephemeral_nfs/envs/pythonEnv-03f8a137-8fc7-40e2-a4d5-d7c5962b4be8/lib/python3.9/site-packages (from typing-inspect<1,>=0.4.0->dataclasses-json<0.7,>=0.5.7->langchain-community<0.3,>=0.2->langchain-experimental) (1.0.0)\nInstalling collected packages: jsonpointer, packaging, multidict, langsmith, jsonpatch, frozenlist, yarl, langchain-core, greenlet, async-timeout, aiosignal, SQLAlchemy, langchain-text-splitters, aiohttp, langchain, langchain-community, langchain-experimental\n  Attempting uninstall: packaging\n    Found existing installation: packaging 24.0\n    Uninstalling packaging-24.0:\n      Successfully uninstalled packaging-24.0\nSuccessfully installed SQLAlchemy-2.0.30 aiohttp-3.9.5 aiosignal-1.3.1 async-timeout-4.0.3 frozenlist-1.4.1 greenlet-3.0.3 jsonpatch-1.33 jsonpointer-2.4 langchain-0.2.2 langchain-community-0.2.2 langchain-core-0.2.4 langchain-experimental-0.0.60 langchain-text-splitters-0.2.1 langsmith-0.1.69 multidict-6.0.5 packaging-23.2 yarl-1.9.4\nPython interpreter will be restarted.\nPython interpreter will be restarted.\nRequirement already satisfied: pypdf in /local_disk0/.ephemeral_nfs/envs/pythonEnv-03f8a137-8fc7-40e2-a4d5-d7c5962b4be8/lib/python3.9/site-packages (4.2.0)\nRequirement already satisfied: typing_extensions>=4.0 in /local_disk0/.ephemeral_nfs/envs/pythonEnv-03f8a137-8fc7-40e2-a4d5-d7c5962b4be8/lib/python3.9/site-packages (from pypdf) (4.12.1)\nPython interpreter will be restarted.\nPython interpreter will be restarted.\nRequirement already satisfied: yt_dlp in /local_disk0/.ephemeral_nfs/envs/pythonEnv-03f8a137-8fc7-40e2-a4d5-d7c5962b4be8/lib/python3.9/site-packages (2024.5.27)\nRequirement already satisfied: brotli in /local_disk0/.ephemeral_nfs/envs/pythonEnv-03f8a137-8fc7-40e2-a4d5-d7c5962b4be8/lib/python3.9/site-packages (from yt_dlp) (1.1.0)\nRequirement already satisfied: requests<3,>=2.31.0 in /local_disk0/.ephemeral_nfs/envs/pythonEnv-03f8a137-8fc7-40e2-a4d5-d7c5962b4be8/lib/python3.9/site-packages (from yt_dlp) (2.32.3)\nRequirement already satisfied: websockets>=12.0 in /local_disk0/.ephemeral_nfs/envs/pythonEnv-03f8a137-8fc7-40e2-a4d5-d7c5962b4be8/lib/python3.9/site-packages (from yt_dlp) (12.0)\nRequirement already satisfied: mutagen in /local_disk0/.ephemeral_nfs/envs/pythonEnv-03f8a137-8fc7-40e2-a4d5-d7c5962b4be8/lib/python3.9/site-packages (from yt_dlp) (1.47.0)\nRequirement already satisfied: pycryptodomex in /local_disk0/.ephemeral_nfs/envs/pythonEnv-03f8a137-8fc7-40e2-a4d5-d7c5962b4be8/lib/python3.9/site-packages (from yt_dlp) (3.20.0)\nRequirement already satisfied: certifi in /local_disk0/.ephemeral_nfs/envs/pythonEnv-03f8a137-8fc7-40e2-a4d5-d7c5962b4be8/lib/python3.9/site-packages (from yt_dlp) (2024.6.2)\nRequirement already satisfied: urllib3<3,>=1.26.17 in /local_disk0/.ephemeral_nfs/envs/pythonEnv-03f8a137-8fc7-40e2-a4d5-d7c5962b4be8/lib/python3.9/site-packages (from yt_dlp) (2.2.1)\nRequirement already satisfied: idna<4,>=2.5 in /local_disk0/.ephemeral_nfs/envs/pythonEnv-03f8a137-8fc7-40e2-a4d5-d7c5962b4be8/lib/python3.9/site-packages (from requests<3,>=2.31.0->yt_dlp) (3.7)\nRequirement already satisfied: charset-normalizer<4,>=2 in /local_disk0/.ephemeral_nfs/envs/pythonEnv-03f8a137-8fc7-40e2-a4d5-d7c5962b4be8/lib/python3.9/site-packages (from requests<3,>=2.31.0->yt_dlp) (3.3.2)\nPython interpreter will be restarted.\nPython interpreter will be restarted.\nRequirement already satisfied: pydub in /local_disk0/.ephemeral_nfs/envs/pythonEnv-03f8a137-8fc7-40e2-a4d5-d7c5962b4be8/lib/python3.9/site-packages (0.25.1)\nPython interpreter will be restarted.\nPython interpreter will be restarted.\nPython interpreter will be restarted.\nPython interpreter will be restarted.\nRequirement already satisfied: chromadb in /local_disk0/.ephemeral_nfs/envs/pythonEnv-03f8a137-8fc7-40e2-a4d5-d7c5962b4be8/lib/python3.9/site-packages (0.5.0)\nRequirement already satisfied: opentelemetry-sdk>=1.2.0 in /local_disk0/.ephemeral_nfs/envs/pythonEnv-03f8a137-8fc7-40e2-a4d5-d7c5962b4be8/lib/python3.9/site-packages (from chromadb) (1.25.0)\nRequirement already satisfied: build>=1.0.3 in /local_disk0/.ephemeral_nfs/envs/pythonEnv-03f8a137-8fc7-40e2-a4d5-d7c5962b4be8/lib/python3.9/site-packages (from chromadb) (1.2.1)\nRequirement already satisfied: PyYAML>=6.0.0 in /local_disk0/.ephemeral_nfs/envs/pythonEnv-03f8a137-8fc7-40e2-a4d5-d7c5962b4be8/lib/python3.9/site-packages (from chromadb) (6.0.1)\nRequirement already satisfied: onnxruntime>=1.14.1 in /local_disk0/.ephemeral_nfs/envs/pythonEnv-03f8a137-8fc7-40e2-a4d5-d7c5962b4be8/lib/python3.9/site-packages (from chromadb) (1.18.0)\nRequirement already satisfied: tokenizers>=0.13.2 in /local_disk0/.ephemeral_nfs/envs/pythonEnv-03f8a137-8fc7-40e2-a4d5-d7c5962b4be8/lib/python3.9/site-packages (from chromadb) (0.19.1)\nRequirement already satisfied: grpcio>=1.58.0 in /local_disk0/.ephemeral_nfs/envs/pythonEnv-03f8a137-8fc7-40e2-a4d5-d7c5962b4be8/lib/python3.9/site-packages (from chromadb) (1.64.1)\nRequirement already satisfied: chroma-hnswlib==0.7.3 in /local_disk0/.ephemeral_nfs/envs/pythonEnv-03f8a137-8fc7-40e2-a4d5-d7c5962b4be8/lib/python3.9/site-packages (from chromadb) (0.7.3)\nRequirement already satisfied: uvicorn[standard]>=0.18.3 in /local_disk0/.ephemeral_nfs/envs/pythonEnv-03f8a137-8fc7-40e2-a4d5-d7c5962b4be8/lib/python3.9/site-packages (from chromadb) (0.30.1)\nRequirement already satisfied: posthog>=2.4.0 in /local_disk0/.ephemeral_nfs/envs/pythonEnv-03f8a137-8fc7-40e2-a4d5-d7c5962b4be8/lib/python3.9/site-packages (from chromadb) (3.5.0)\nRequirement already satisfied: numpy>=1.22.5 in /local_disk0/.ephemeral_nfs/envs/pythonEnv-03f8a137-8fc7-40e2-a4d5-d7c5962b4be8/lib/python3.9/site-packages (from chromadb) (1.26.4)\nRequirement already satisfied: tqdm>=4.65.0 in /local_disk0/.ephemeral_nfs/envs/pythonEnv-03f8a137-8fc7-40e2-a4d5-d7c5962b4be8/lib/python3.9/site-packages (from chromadb) (4.66.4)\nRequirement already satisfied: overrides>=7.3.1 in /local_disk0/.ephemeral_nfs/envs/pythonEnv-03f8a137-8fc7-40e2-a4d5-d7c5962b4be8/lib/python3.9/site-packages (from chromadb) (7.7.0)\nRequirement already satisfied: tenacity>=8.2.3 in /local_disk0/.ephemeral_nfs/envs/pythonEnv-03f8a137-8fc7-40e2-a4d5-d7c5962b4be8/lib/python3.9/site-packages (from chromadb) (8.3.0)\nRequirement already satisfied: requests>=2.28 in /local_disk0/.ephemeral_nfs/envs/pythonEnv-03f8a137-8fc7-40e2-a4d5-d7c5962b4be8/lib/python3.9/site-packages (from chromadb) (2.32.3)\nRequirement already satisfied: opentelemetry-api>=1.2.0 in /local_disk0/.ephemeral_nfs/envs/pythonEnv-03f8a137-8fc7-40e2-a4d5-d7c5962b4be8/lib/python3.9/site-packages (from chromadb) (1.25.0)\nRequirement already satisfied: importlib-resources in /local_disk0/.ephemeral_nfs/envs/pythonEnv-03f8a137-8fc7-40e2-a4d5-d7c5962b4be8/lib/python3.9/site-packages (from chromadb) (6.4.0)\nRequirement already satisfied: pydantic>=1.9 in /local_disk0/.ephemeral_nfs/envs/pythonEnv-03f8a137-8fc7-40e2-a4d5-d7c5962b4be8/lib/python3.9/site-packages (from chromadb) (2.7.3)\nRequirement already satisfied: typer>=0.9.0 in /local_disk0/.ephemeral_nfs/envs/pythonEnv-03f8a137-8fc7-40e2-a4d5-d7c5962b4be8/lib/python3.9/site-packages (from chromadb) (0.12.3)\nRequirement already satisfied: pypika>=0.48.9 in /local_disk0/.ephemeral_nfs/envs/pythonEnv-03f8a137-8fc7-40e2-a4d5-d7c5962b4be8/lib/python3.9/site-packages (from chromadb) (0.48.9)\nRequirement already satisfied: bcrypt>=4.0.1 in /local_disk0/.ephemeral_nfs/envs/pythonEnv-03f8a137-8fc7-40e2-a4d5-d7c5962b4be8/lib/python3.9/site-packages (from chromadb) (4.1.3)\nRequirement already satisfied: orjson>=3.9.12 in /local_disk0/.ephemeral_nfs/envs/pythonEnv-03f8a137-8fc7-40e2-a4d5-d7c5962b4be8/lib/python3.9/site-packages (from chromadb) (3.10.3)\nRequirement already satisfied: fastapi>=0.95.2 in /local_disk0/.ephemeral_nfs/envs/pythonEnv-03f8a137-8fc7-40e2-a4d5-d7c5962b4be8/lib/python3.9/site-packages (from chromadb) (0.111.0)\nRequirement already satisfied: kubernetes>=28.1.0 in /local_disk0/.ephemeral_nfs/envs/pythonEnv-03f8a137-8fc7-40e2-a4d5-d7c5962b4be8/lib/python3.9/site-packages (from chromadb) (29.0.0)\nRequirement already satisfied: typing-extensions>=4.5.0 in /local_disk0/.ephemeral_nfs/envs/pythonEnv-03f8a137-8fc7-40e2-a4d5-d7c5962b4be8/lib/python3.9/site-packages (from chromadb) (4.12.1)\nRequirement already satisfied: opentelemetry-instrumentation-fastapi>=0.41b0 in /local_disk0/.ephemeral_nfs/envs/pythonEnv-03f8a137-8fc7-40e2-a4d5-d7c5962b4be8/lib/python3.9/site-packages (from chromadb) (0.46b0)\nRequirement already satisfied: mmh3>=4.0.1 in /local_disk0/.ephemeral_nfs/envs/pythonEnv-03f8a137-8fc7-40e2-a4d5-d7c5962b4be8/lib/python3.9/site-packages (from chromadb) (4.1.0)\nRequirement already satisfied: opentelemetry-exporter-otlp-proto-grpc>=1.2.0 in /local_disk0/.ephemeral_nfs/envs/pythonEnv-03f8a137-8fc7-40e2-a4d5-d7c5962b4be8/lib/python3.9/site-packages (from chromadb) (1.25.0)\nRequirement already satisfied: pyproject_hooks in /local_disk0/.ephemeral_nfs/envs/pythonEnv-03f8a137-8fc7-40e2-a4d5-d7c5962b4be8/lib/python3.9/site-packages (from build>=1.0.3->chromadb) (1.1.0)\nRequirement already satisfied: packaging>=19.1 in /local_disk0/.ephemeral_nfs/envs/pythonEnv-03f8a137-8fc7-40e2-a4d5-d7c5962b4be8/lib/python3.9/site-packages (from build>=1.0.3->chromadb) (23.2)\nRequirement already satisfied: importlib-metadata>=4.6 in /local_disk0/.ephemeral_nfs/envs/pythonEnv-03f8a137-8fc7-40e2-a4d5-d7c5962b4be8/lib/python3.9/site-packages (from build>=1.0.3->chromadb) (7.1.0)\nRequirement already satisfied: tomli>=1.1.0 in /databricks/python3/lib/python3.9/site-packages (from build>=1.0.3->chromadb) (1.2.2)\nRequirement already satisfied: jinja2>=2.11.2 in /databricks/python3/lib/python3.9/site-packages (from fastapi>=0.95.2->chromadb) (2.11.3)\nRequirement already satisfied: starlette<0.38.0,>=0.37.2 in /local_disk0/.ephemeral_nfs/envs/pythonEnv-03f8a137-8fc7-40e2-a4d5-d7c5962b4be8/lib/python3.9/site-packages (from fastapi>=0.95.2->chromadb) (0.37.2)\nRequirement already satisfied: email_validator>=2.0.0 in /local_disk0/.ephemeral_nfs/envs/pythonEnv-03f8a137-8fc7-40e2-a4d5-d7c5962b4be8/lib/python3.9/site-packages (from fastapi>=0.95.2->chromadb) (2.1.1)\nRequirement already satisfied: httpx>=0.23.0 in /local_disk0/.ephemeral_nfs/envs/pythonEnv-03f8a137-8fc7-40e2-a4d5-d7c5962b4be8/lib/python3.9/site-packages (from fastapi>=0.95.2->chromadb) (0.27.0)\nRequirement already satisfied: python-multipart>=0.0.7 in /local_disk0/.ephemeral_nfs/envs/pythonEnv-03f8a137-8fc7-40e2-a4d5-d7c5962b4be8/lib/python3.9/site-packages (from fastapi>=0.95.2->chromadb) (0.0.9)\nRequirement already satisfied: fastapi-cli>=0.0.2 in /local_disk0/.ephemeral_nfs/envs/pythonEnv-03f8a137-8fc7-40e2-a4d5-d7c5962b4be8/lib/python3.9/site-packages (from fastapi>=0.95.2->chromadb) (0.0.4)\nRequirement already satisfied: ujson!=4.0.2,!=4.1.0,!=4.2.0,!=4.3.0,!=5.0.0,!=5.1.0,>=4.0.1 in /local_disk0/.ephemeral_nfs/envs/pythonEnv-03f8a137-8fc7-40e2-a4d5-d7c5962b4be8/lib/python3.9/site-packages (from fastapi>=0.95.2->chromadb) (5.10.0)\nRequirement already satisfied: dnspython>=2.0.0 in /local_disk0/.ephemeral_nfs/envs/pythonEnv-03f8a137-8fc7-40e2-a4d5-d7c5962b4be8/lib/python3.9/site-packages (from email_validator>=2.0.0->fastapi>=0.95.2->chromadb) (2.6.1)\nRequirement already satisfied: idna>=2.0.0 in /local_disk0/.ephemeral_nfs/envs/pythonEnv-03f8a137-8fc7-40e2-a4d5-d7c5962b4be8/lib/python3.9/site-packages (from email_validator>=2.0.0->fastapi>=0.95.2->chromadb) (3.7)\nRequirement already satisfied: httpcore==1.* in /local_disk0/.ephemeral_nfs/envs/pythonEnv-03f8a137-8fc7-40e2-a4d5-d7c5962b4be8/lib/python3.9/site-packages (from httpx>=0.23.0->fastapi>=0.95.2->chromadb) (1.0.5)\nRequirement already satisfied: anyio in /local_disk0/.ephemeral_nfs/envs/pythonEnv-03f8a137-8fc7-40e2-a4d5-d7c5962b4be8/lib/python3.9/site-packages (from httpx>=0.23.0->fastapi>=0.95.2->chromadb) (4.4.0)\nRequirement already satisfied: sniffio in /local_disk0/.ephemeral_nfs/envs/pythonEnv-03f8a137-8fc7-40e2-a4d5-d7c5962b4be8/lib/python3.9/site-packages (from httpx>=0.23.0->fastapi>=0.95.2->chromadb) (1.3.1)\nRequirement already satisfied: certifi in /local_disk0/.ephemeral_nfs/envs/pythonEnv-03f8a137-8fc7-40e2-a4d5-d7c5962b4be8/lib/python3.9/site-packages (from httpx>=0.23.0->fastapi>=0.95.2->chromadb) (2024.6.2)\nRequirement already satisfied: h11<0.15,>=0.13 in /local_disk0/.ephemeral_nfs/envs/pythonEnv-03f8a137-8fc7-40e2-a4d5-d7c5962b4be8/lib/python3.9/site-packages (from httpcore==1.*->httpx>=0.23.0->fastapi>=0.95.2->chromadb) (0.14.0)\nRequirement already satisfied: zipp>=0.5 in /local_disk0/.ephemeral_nfs/envs/pythonEnv-03f8a137-8fc7-40e2-a4d5-d7c5962b4be8/lib/python3.9/site-packages (from importlib-metadata>=4.6->build>=1.0.3->chromadb) (3.19.2)\nRequirement already satisfied: MarkupSafe>=0.23 in /databricks/python3/lib/python3.9/site-packages (from jinja2>=2.11.2->fastapi>=0.95.2->chromadb) (2.0.1)\nRequirement already satisfied: requests-oauthlib in /local_disk0/.ephemeral_nfs/envs/pythonEnv-03f8a137-8fc7-40e2-a4d5-d7c5962b4be8/lib/python3.9/site-packages (from kubernetes>=28.1.0->chromadb) (2.0.0)\nRequirement already satisfied: python-dateutil>=2.5.3 in /databricks/python3/lib/python3.9/site-packages (from kubernetes>=28.1.0->chromadb) (2.8.2)\nRequirement already satisfied: urllib3>=1.24.2 in /local_disk0/.ephemeral_nfs/envs/pythonEnv-03f8a137-8fc7-40e2-a4d5-d7c5962b4be8/lib/python3.9/site-packages (from kubernetes>=28.1.0->chromadb) (2.2.1)\nRequirement already satisfied: oauthlib>=3.2.2 in /local_disk0/.ephemeral_nfs/envs/pythonEnv-03f8a137-8fc7-40e2-a4d5-d7c5962b4be8/lib/python3.9/site-packages (from kubernetes>=28.1.0->chromadb) (3.2.2)\nRequirement already satisfied: google-auth>=1.0.1 in /local_disk0/.ephemeral_nfs/envs/pythonEnv-03f8a137-8fc7-40e2-a4d5-d7c5962b4be8/lib/python3.9/site-packages (from kubernetes>=28.1.0->chromadb) (2.29.0)\nRequirement already satisfied: websocket-client!=0.40.0,!=0.41.*,!=0.42.*,>=0.32.0 in /local_disk0/.ephemeral_nfs/envs/pythonEnv-03f8a137-8fc7-40e2-a4d5-d7c5962b4be8/lib/python3.9/site-packages (from kubernetes>=28.1.0->chromadb) (1.8.0)\nRequirement already satisfied: six>=1.9.0 in /databricks/python3/lib/python3.9/site-packages (from kubernetes>=28.1.0->chromadb) (1.16.0)\nRequirement already satisfied: rsa<5,>=3.1.4 in /local_disk0/.ephemeral_nfs/envs/pythonEnv-03f8a137-8fc7-40e2-a4d5-d7c5962b4be8/lib/python3.9/site-packages (from google-auth>=1.0.1->kubernetes>=28.1.0->chromadb) (4.9)\nRequirement already satisfied: cachetools<6.0,>=2.0.0 in /local_disk0/.ephemeral_nfs/envs/pythonEnv-03f8a137-8fc7-40e2-a4d5-d7c5962b4be8/lib/python3.9/site-packages (from google-auth>=1.0.1->kubernetes>=28.1.0->chromadb) (5.3.3)\nRequirement already satisfied: pyasn1-modules>=0.2.1 in /local_disk0/.ephemeral_nfs/envs/pythonEnv-03f8a137-8fc7-40e2-a4d5-d7c5962b4be8/lib/python3.9/site-packages (from google-auth>=1.0.1->kubernetes>=28.1.0->chromadb) (0.4.0)\nRequirement already satisfied: protobuf in /local_disk0/.ephemeral_nfs/envs/pythonEnv-03f8a137-8fc7-40e2-a4d5-d7c5962b4be8/lib/python3.9/site-packages (from onnxruntime>=1.14.1->chromadb) (4.25.3)\nRequirement already satisfied: flatbuffers in /local_disk0/.ephemeral_nfs/envs/pythonEnv-03f8a137-8fc7-40e2-a4d5-d7c5962b4be8/lib/python3.9/site-packages (from onnxruntime>=1.14.1->chromadb) (24.3.25)\nRequirement already satisfied: coloredlogs in /local_disk0/.ephemeral_nfs/envs/pythonEnv-03f8a137-8fc7-40e2-a4d5-d7c5962b4be8/lib/python3.9/site-packages (from onnxruntime>=1.14.1->chromadb) (15.0.1)\nRequirement already satisfied: sympy in /local_disk0/.ephemeral_nfs/envs/pythonEnv-03f8a137-8fc7-40e2-a4d5-d7c5962b4be8/lib/python3.9/site-packages (from onnxruntime>=1.14.1->chromadb) (1.12.1)\nRequirement already satisfied: deprecated>=1.2.6 in /local_disk0/.ephemeral_nfs/envs/pythonEnv-03f8a137-8fc7-40e2-a4d5-d7c5962b4be8/lib/python3.9/site-packages (from opentelemetry-api>=1.2.0->chromadb) (1.2.14)\nRequirement already satisfied: wrapt<2,>=1.10 in /local_disk0/.ephemeral_nfs/envs/pythonEnv-03f8a137-8fc7-40e2-a4d5-d7c5962b4be8/lib/python3.9/site-packages (from deprecated>=1.2.6->opentelemetry-api>=1.2.0->chromadb) (1.16.0)\nRequirement already satisfied: googleapis-common-protos~=1.52 in /local_disk0/.ephemeral_nfs/envs/pythonEnv-03f8a137-8fc7-40e2-a4d5-d7c5962b4be8/lib/python3.9/site-packages (from opentelemetry-exporter-otlp-proto-grpc>=1.2.0->chromadb) (1.63.1)\nRequirement already satisfied: opentelemetry-proto==1.25.0 in /local_disk0/.ephemeral_nfs/envs/pythonEnv-03f8a137-8fc7-40e2-a4d5-d7c5962b4be8/lib/python3.9/site-packages (from opentelemetry-exporter-otlp-proto-grpc>=1.2.0->chromadb) (1.25.0)\nRequirement already satisfied: opentelemetry-exporter-otlp-proto-common==1.25.0 in /local_disk0/.ephemeral_nfs/envs/pythonEnv-03f8a137-8fc7-40e2-a4d5-d7c5962b4be8/lib/python3.9/site-packages (from opentelemetry-exporter-otlp-proto-grpc>=1.2.0->chromadb) (1.25.0)\nRequirement already satisfied: opentelemetry-instrumentation==0.46b0 in /local_disk0/.ephemeral_nfs/envs/pythonEnv-03f8a137-8fc7-40e2-a4d5-d7c5962b4be8/lib/python3.9/site-packages (from opentelemetry-instrumentation-fastapi>=0.41b0->chromadb) (0.46b0)\nRequirement already satisfied: opentelemetry-util-http==0.46b0 in /local_disk0/.ephemeral_nfs/envs/pythonEnv-03f8a137-8fc7-40e2-a4d5-d7c5962b4be8/lib/python3.9/site-packages (from opentelemetry-instrumentation-fastapi>=0.41b0->chromadb) (0.46b0)\nRequirement already satisfied: opentelemetry-semantic-conventions==0.46b0 in /local_disk0/.ephemeral_nfs/envs/pythonEnv-03f8a137-8fc7-40e2-a4d5-d7c5962b4be8/lib/python3.9/site-packages (from opentelemetry-instrumentation-fastapi>=0.41b0->chromadb) (0.46b0)\nRequirement already satisfied: opentelemetry-instrumentation-asgi==0.46b0 in /local_disk0/.ephemeral_nfs/envs/pythonEnv-03f8a137-8fc7-40e2-a4d5-d7c5962b4be8/lib/python3.9/site-packages (from opentelemetry-instrumentation-fastapi>=0.41b0->chromadb) (0.46b0)\nRequirement already satisfied: setuptools>=16.0 in /databricks/python3/lib/python3.9/site-packages (from opentelemetry-instrumentation==0.46b0->opentelemetry-instrumentation-fastapi>=0.41b0->chromadb) (61.2.0)\nRequirement already satisfied: asgiref~=3.0 in /local_disk0/.ephemeral_nfs/envs/pythonEnv-03f8a137-8fc7-40e2-a4d5-d7c5962b4be8/lib/python3.9/site-packages (from opentelemetry-instrumentation-asgi==0.46b0->opentelemetry-instrumentation-fastapi>=0.41b0->chromadb) (3.8.1)\nRequirement already satisfied: backoff>=1.10.0 in /local_disk0/.ephemeral_nfs/envs/pythonEnv-03f8a137-8fc7-40e2-a4d5-d7c5962b4be8/lib/python3.9/site-packages (from posthog>=2.4.0->chromadb) (2.2.1)\nRequirement already satisfied: monotonic>=1.5 in /local_disk0/.ephemeral_nfs/envs/pythonEnv-03f8a137-8fc7-40e2-a4d5-d7c5962b4be8/lib/python3.9/site-packages (from posthog>=2.4.0->chromadb) (1.6)\nRequirement already satisfied: pyasn1<0.7.0,>=0.4.6 in /local_disk0/.ephemeral_nfs/envs/pythonEnv-03f8a137-8fc7-40e2-a4d5-d7c5962b4be8/lib/python3.9/site-packages (from pyasn1-modules>=0.2.1->google-auth>=1.0.1->kubernetes>=28.1.0->chromadb) (0.6.0)\nRequirement already satisfied: annotated-types>=0.4.0 in /local_disk0/.ephemeral_nfs/envs/pythonEnv-03f8a137-8fc7-40e2-a4d5-d7c5962b4be8/lib/python3.9/site-packages (from pydantic>=1.9->chromadb) (0.7.0)\nRequirement already satisfied: pydantic-core==2.18.4 in /local_disk0/.ephemeral_nfs/envs/pythonEnv-03f8a137-8fc7-40e2-a4d5-d7c5962b4be8/lib/python3.9/site-packages (from pydantic>=1.9->chromadb) (2.18.4)\nRequirement already satisfied: charset-normalizer<4,>=2 in /local_disk0/.ephemeral_nfs/envs/pythonEnv-03f8a137-8fc7-40e2-a4d5-d7c5962b4be8/lib/python3.9/site-packages (from requests>=2.28->chromadb) (3.3.2)\nRequirement already satisfied: exceptiongroup>=1.0.2 in /local_disk0/.ephemeral_nfs/envs/pythonEnv-03f8a137-8fc7-40e2-a4d5-d7c5962b4be8/lib/python3.9/site-packages (from anyio->httpx>=0.23.0->fastapi>=0.95.2->chromadb) (1.2.1)\nRequirement already satisfied: huggingface-hub<1.0,>=0.16.4 in /local_disk0/.ephemeral_nfs/envs/pythonEnv-03f8a137-8fc7-40e2-a4d5-d7c5962b4be8/lib/python3.9/site-packages (from tokenizers>=0.13.2->chromadb) (0.23.2)\nRequirement already satisfied: filelock in /usr/local/lib/python3.9/dist-packages (from huggingface-hub<1.0,>=0.16.4->tokenizers>=0.13.2->chromadb) (3.9.0)\nRequirement already satisfied: fsspec>=2023.5.0 in /local_disk0/.ephemeral_nfs/envs/pythonEnv-03f8a137-8fc7-40e2-a4d5-d7c5962b4be8/lib/python3.9/site-packages (from huggingface-hub<1.0,>=0.16.4->tokenizers>=0.13.2->chromadb) (2024.6.0)\nRequirement already satisfied: click>=8.0.0 in /databricks/python3/lib/python3.9/site-packages (from typer>=0.9.0->chromadb) (8.0.4)\nRequirement already satisfied: rich>=10.11.0 in /local_disk0/.ephemeral_nfs/envs/pythonEnv-03f8a137-8fc7-40e2-a4d5-d7c5962b4be8/lib/python3.9/site-packages (from typer>=0.9.0->chromadb) (13.7.1)\nRequirement already satisfied: shellingham>=1.3.0 in /local_disk0/.ephemeral_nfs/envs/pythonEnv-03f8a137-8fc7-40e2-a4d5-d7c5962b4be8/lib/python3.9/site-packages (from typer>=0.9.0->chromadb) (1.5.4)\nRequirement already satisfied: pygments<3.0.0,>=2.13.0 in /local_disk0/.ephemeral_nfs/envs/pythonEnv-03f8a137-8fc7-40e2-a4d5-d7c5962b4be8/lib/python3.9/site-packages (from rich>=10.11.0->typer>=0.9.0->chromadb) (2.18.0)\nRequirement already satisfied: markdown-it-py>=2.2.0 in /local_disk0/.ephemeral_nfs/envs/pythonEnv-03f8a137-8fc7-40e2-a4d5-d7c5962b4be8/lib/python3.9/site-packages (from rich>=10.11.0->typer>=0.9.0->chromadb) (3.0.0)\nRequirement already satisfied: mdurl~=0.1 in /local_disk0/.ephemeral_nfs/envs/pythonEnv-03f8a137-8fc7-40e2-a4d5-d7c5962b4be8/lib/python3.9/site-packages (from markdown-it-py>=2.2.0->rich>=10.11.0->typer>=0.9.0->chromadb) (0.1.2)\nRequirement already satisfied: websockets>=10.4 in /local_disk0/.ephemeral_nfs/envs/pythonEnv-03f8a137-8fc7-40e2-a4d5-d7c5962b4be8/lib/python3.9/site-packages (from uvicorn[standard]>=0.18.3->chromadb) (12.0)\nRequirement already satisfied: uvloop!=0.15.0,!=0.15.1,>=0.14.0 in /local_disk0/.ephemeral_nfs/envs/pythonEnv-03f8a137-8fc7-40e2-a4d5-d7c5962b4be8/lib/python3.9/site-packages (from uvicorn[standard]>=0.18.3->chromadb) (0.19.0)\nRequirement already satisfied: python-dotenv>=0.13 in /local_disk0/.ephemeral_nfs/envs/pythonEnv-03f8a137-8fc7-40e2-a4d5-d7c5962b4be8/lib/python3.9/site-packages (from uvicorn[standard]>=0.18.3->chromadb) (1.0.1)\nRequirement already satisfied: httptools>=0.5.0 in /local_disk0/.ephemeral_nfs/envs/pythonEnv-03f8a137-8fc7-40e2-a4d5-d7c5962b4be8/lib/python3.9/site-packages (from uvicorn[standard]>=0.18.3->chromadb) (0.6.1)\nRequirement already satisfied: watchfiles>=0.13 in /local_disk0/.ephemeral_nfs/envs/pythonEnv-03f8a137-8fc7-40e2-a4d5-d7c5962b4be8/lib/python3.9/site-packages (from uvicorn[standard]>=0.18.3->chromadb) (0.22.0)\nRequirement already satisfied: humanfriendly>=9.1 in /local_disk0/.ephemeral_nfs/envs/pythonEnv-03f8a137-8fc7-40e2-a4d5-d7c5962b4be8/lib/python3.9/site-packages (from coloredlogs->onnxruntime>=1.14.1->chromadb) (10.0)\nRequirement already satisfied: mpmath<1.4.0,>=1.1.0 in /local_disk0/.ephemeral_nfs/envs/pythonEnv-03f8a137-8fc7-40e2-a4d5-d7c5962b4be8/lib/python3.9/site-packages (from sympy->onnxruntime>=1.14.1->chromadb) (1.3.0)\nPython interpreter will be restarted.\nPython interpreter will be restarted.\nRequirement already satisfied: openai in /local_disk0/.ephemeral_nfs/envs/pythonEnv-03f8a137-8fc7-40e2-a4d5-d7c5962b4be8/lib/python3.9/site-packages (1.31.0)\nRequirement already satisfied: tqdm>4 in /local_disk0/.ephemeral_nfs/envs/pythonEnv-03f8a137-8fc7-40e2-a4d5-d7c5962b4be8/lib/python3.9/site-packages (from openai) (4.66.4)\nRequirement already satisfied: httpx<1,>=0.23.0 in /local_disk0/.ephemeral_nfs/envs/pythonEnv-03f8a137-8fc7-40e2-a4d5-d7c5962b4be8/lib/python3.9/site-packages (from openai) (0.27.0)\nRequirement already satisfied: distro<2,>=1.7.0 in /local_disk0/.ephemeral_nfs/envs/pythonEnv-03f8a137-8fc7-40e2-a4d5-d7c5962b4be8/lib/python3.9/site-packages (from openai) (1.9.0)\nRequirement already satisfied: sniffio in /local_disk0/.ephemeral_nfs/envs/pythonEnv-03f8a137-8fc7-40e2-a4d5-d7c5962b4be8/lib/python3.9/site-packages (from openai) (1.3.1)\nRequirement already satisfied: anyio<5,>=3.5.0 in /local_disk0/.ephemeral_nfs/envs/pythonEnv-03f8a137-8fc7-40e2-a4d5-d7c5962b4be8/lib/python3.9/site-packages (from openai) (4.4.0)\nRequirement already satisfied: typing-extensions<5,>=4.7 in /local_disk0/.ephemeral_nfs/envs/pythonEnv-03f8a137-8fc7-40e2-a4d5-d7c5962b4be8/lib/python3.9/site-packages (from openai) (4.12.1)\nRequirement already satisfied: pydantic<3,>=1.9.0 in /local_disk0/.ephemeral_nfs/envs/pythonEnv-03f8a137-8fc7-40e2-a4d5-d7c5962b4be8/lib/python3.9/site-packages (from openai) (2.7.3)\nRequirement already satisfied: idna>=2.8 in /local_disk0/.ephemeral_nfs/envs/pythonEnv-03f8a137-8fc7-40e2-a4d5-d7c5962b4be8/lib/python3.9/site-packages (from anyio<5,>=3.5.0->openai) (3.7)\nRequirement already satisfied: exceptiongroup>=1.0.2 in /local_disk0/.ephemeral_nfs/envs/pythonEnv-03f8a137-8fc7-40e2-a4d5-d7c5962b4be8/lib/python3.9/site-packages (from anyio<5,>=3.5.0->openai) (1.2.1)\nRequirement already satisfied: httpcore==1.* in /local_disk0/.ephemeral_nfs/envs/pythonEnv-03f8a137-8fc7-40e2-a4d5-d7c5962b4be8/lib/python3.9/site-packages (from httpx<1,>=0.23.0->openai) (1.0.5)\nRequirement already satisfied: certifi in /local_disk0/.ephemeral_nfs/envs/pythonEnv-03f8a137-8fc7-40e2-a4d5-d7c5962b4be8/lib/python3.9/site-packages (from httpx<1,>=0.23.0->openai) (2024.6.2)\nRequirement already satisfied: h11<0.15,>=0.13 in /local_disk0/.ephemeral_nfs/envs/pythonEnv-03f8a137-8fc7-40e2-a4d5-d7c5962b4be8/lib/python3.9/site-packages (from httpcore==1.*->httpx<1,>=0.23.0->openai) (0.14.0)\nRequirement already satisfied: annotated-types>=0.4.0 in /local_disk0/.ephemeral_nfs/envs/pythonEnv-03f8a137-8fc7-40e2-a4d5-d7c5962b4be8/lib/python3.9/site-packages (from pydantic<3,>=1.9.0->openai) (0.7.0)\nRequirement already satisfied: pydantic-core==2.18.4 in /local_disk0/.ephemeral_nfs/envs/pythonEnv-03f8a137-8fc7-40e2-a4d5-d7c5962b4be8/lib/python3.9/site-packages (from pydantic<3,>=1.9.0->openai) (2.18.4)\nPython interpreter will be restarted.\nPython interpreter will be restarted.\nRequirement already satisfied: lark in /local_disk0/.ephemeral_nfs/envs/pythonEnv-03f8a137-8fc7-40e2-a4d5-d7c5962b4be8/lib/python3.9/site-packages (1.1.9)\nPython interpreter will be restarted.\n"
     ]
    },
    {
     "output_type": "display_data",
     "data": {
      "text/html": [
       "<style scoped>\n",
       "  .table-result-container {\n",
       "    max-height: 300px;\n",
       "    overflow: auto;\n",
       "  }\n",
       "  table, th, td {\n",
       "    border: 1px solid black;\n",
       "    border-collapse: collapse;\n",
       "  }\n",
       "  th, td {\n",
       "    padding: 5px;\n",
       "  }\n",
       "  th {\n",
       "    text-align: left;\n",
       "  }\n",
       "</style><div class='table-result-container'><table class='table-result'><thead style='background-color: white'><tr></tr></thead><tbody></tbody></table></div>"
      ]
     },
     "metadata": {
      "application/vnd.databricks.v1+output": {
       "addedWidgets": {},
       "aggData": [],
       "aggError": "",
       "aggOverflow": false,
       "aggSchema": [],
       "aggSeriesLimitReached": false,
       "aggType": "",
       "arguments": {},
       "columnCustomDisplayInfos": {},
       "data": [],
       "datasetInfos": [],
       "dbfsResultPath": null,
       "isJsonSchema": true,
       "metadata": {
        "isDbfsCommandResult": false
       },
       "overflow": false,
       "plotOptions": {
        "customPlotOptions": {},
        "displayType": "table",
        "pivotAggregation": null,
        "pivotColumns": null,
        "xColumns": null,
        "yColumns": null
       },
       "removedWidgets": [],
       "schema": [],
       "type": "table"
      }
     },
     "output_type": "display_data"
    },
    {
     "output_type": "stream",
     "name": "stdout",
     "output_type": "stream",
     "text": [
      "Out[5]: False"
     ]
    },
    {
     "output_type": "display_data",
     "data": {
      "text/html": [
       "<style scoped>\n",
       "  .table-result-container {\n",
       "    max-height: 300px;\n",
       "    overflow: auto;\n",
       "  }\n",
       "  table, th, td {\n",
       "    border: 1px solid black;\n",
       "    border-collapse: collapse;\n",
       "  }\n",
       "  th, td {\n",
       "    padding: 5px;\n",
       "  }\n",
       "  th {\n",
       "    text-align: left;\n",
       "  }\n",
       "</style><div class='table-result-container'><table class='table-result'><thead style='background-color: white'><tr></tr></thead><tbody></tbody></table></div>"
      ]
     },
     "metadata": {
      "application/vnd.databricks.v1+output": {
       "addedWidgets": {},
       "aggData": [],
       "aggError": "",
       "aggOverflow": false,
       "aggSchema": [],
       "aggSeriesLimitReached": false,
       "aggType": "",
       "arguments": {},
       "columnCustomDisplayInfos": {},
       "data": [],
       "datasetInfos": [],
       "dbfsResultPath": null,
       "isJsonSchema": true,
       "metadata": {
        "isDbfsCommandResult": false
       },
       "overflow": false,
       "plotOptions": {
        "customPlotOptions": {},
        "displayType": "table",
        "pivotAggregation": null,
        "pivotColumns": null,
        "xColumns": null,
        "yColumns": null
       },
       "removedWidgets": [],
       "schema": [],
       "type": "table"
      }
     },
     "output_type": "display_data"
    }
   ],
   "source": [
    "# Get column list\n",
    "\n",
    "colunas = spark.read.table(\"llm.metadata_table\").columns\n",
    "\n",
    "# Set the font size using CSS\n",
    "font_size_css = \"font-size: 32px;\"\n",
    "font_size_css_2 = \"font-size: 18px;\"\n",
    "font_size_css_3 = \"font-size: 14px;\"\n",
    "\n",
    "\n",
    "# Display header in Markdown\n",
    "displayHTML(\"<h3 style='{}'>Você pode fazer perguntas a respeito das seguintes informações:</h3>\".format(font_size_css))\n",
    "\n",
    "# Display the list in Markdown\n",
    "displayHTML(\"<ul style='{}'>{}</ul>\".format(font_size_css_2, \"\".join(\"<li>{}</li>\".format(item) for item in colunas)))\n",
    "\n",
    "\n",
    "displayHTML(\"<h3 style='{}'>A resposta aparecerá no final do Notebook quando o processamento terminar.</h3>\".format(font_size_css))\n",
    "\n",
    "displayHTML(\"<h3 style='{}'>Exemplo de perguntas:</h3>\".format(font_size_css_2))\n",
    "displayHTML(\"<style='{}'>Existe algum dado na coluna PeriododeRetenção maior que 500 ? Se sim, quais?\".format(font_size_css_3))\n",
    "displayHTML(\"<style='{}'>Existe algum PII na coluna attribute_name ? Se sim, quais?\".format(font_size_css_3))\n",
    "displayHTML(\"<style='{}'>Qual a quantidade de glossary_name distintos?\".format(font_size_css_3))\n",
    "\n",
    "\n",
    "\n"
   ]
  },
  {
   "cell_type": "code",
   "execution_count": 0,
   "metadata": {
    "application/vnd.databricks.v1+cell": {
     "cellMetadata": {
      "byteLimit": 2048000,
      "rowLimit": 10000
     },
     "collapsed": true,
     "inputWidgets": {},
     "nuid": "b87af3e6-d210-425c-a9f4-6201e72cdea2",
     "showTitle": false,
     "title": ""
    }
   },
   "outputs": [
    {
     "output_type": "stream",
     "name": "stderr",
     "output_type": "stream",
     "text": [
      "/local_disk0/.ephemeral_nfs/envs/pythonEnv-03f8a137-8fc7-40e2-a4d5-d7c5962b4be8/lib/python3.9/site-packages/langchain_core/_api/deprecation.py:119: LangChainDeprecationWarning: The class `OpenAI` was deprecated in LangChain 0.0.10 and will be removed in 0.3.0. An updated version of the class exists in the langchain-openai package and should be used instead. To use it run `pip install -U langchain-openai` and import as `from langchain_openai import OpenAI`.\n  warn_deprecated(\n"
     ]
    }
   ],
   "source": [
    "dbutils.widgets.removeAll()\n",
    "dbutils.widgets.text(\"Busca\", \"\")\n",
    "df = spark.sql(\"SELECT * FROM llm.metadata_table\")\n",
    "agent = create_spark_dataframe_agent(llm=OpenAI(temperature=0), df=df, verbose=False)"
   ]
  },
  {
   "cell_type": "code",
   "execution_count": 0,
   "metadata": {
    "application/vnd.databricks.v1+cell": {
     "cellMetadata": {
      "byteLimit": 2048000,
      "rowLimit": 10000
     },
     "inputWidgets": {},
     "nuid": "c20c8cf6-21ab-4f80-9177-294f664c09b4",
     "showTitle": false,
     "title": ""
    }
   },
   "outputs": [
    {
     "output_type": "display_data",
     "data": {
      "text/html": [
       "<p style='font-size: 32px;'>Existem 2 glossary_name distintos.</p>"
      ]
     },
     "metadata": {
      "application/vnd.databricks.v1+output": {
       "addedWidgets": {},
       "arguments": {},
       "data": "<p style='font-size: 32px;'>Existem 2 glossary_name distintos.</p>",
       "datasetInfos": [],
       "metadata": {},
       "removedWidgets": [],
       "textData": null,
       "type": "htmlSandbox"
      }
     },
     "output_type": "display_data"
    }
   ],
   "source": [
    "%run ./back_end"
   ]
  },
  {
   "cell_type": "code",
   "execution_count": 0,
   "metadata": {
    "application/vnd.databricks.v1+cell": {
     "cellMetadata": {
      "byteLimit": 2048000,
      "implicitDf": true,
      "rowLimit": 10000
     },
     "inputWidgets": {},
     "nuid": "85734268-6515-4884-bd1e-c40134931bb8",
     "showTitle": true,
     "title": "Tabela onde salvamos as perguntas e respostas"
    }
   },
   "outputs": [
    {
     "output_type": "display_data",
     "data": {
      "text/html": [
       "<style scoped>\n",
       "  .table-result-container {\n",
       "    max-height: 300px;\n",
       "    overflow: auto;\n",
       "  }\n",
       "  table, th, td {\n",
       "    border: 1px solid black;\n",
       "    border-collapse: collapse;\n",
       "  }\n",
       "  th, td {\n",
       "    padding: 5px;\n",
       "  }\n",
       "  th {\n",
       "    text-align: left;\n",
       "  }\n",
       "</style><div class='table-result-container'><table class='table-result'><thead style='background-color: white'><tr><th>id</th><th>prompt</th><th>prompt_response</th><th>insertion_date</th></tr></thead><tbody><tr><td>0e4b31e8-74ff-4cd0-a5f9-ff6ddee20e14</td><td> Existe algum dado na coluna PeriododeRetenção maior que 500 ? Se sim, quais?</td><td>Existem 10 dados na coluna PeriododeRetenção maiores que 500.</td><td>2024-06-04T20:02:19.853+0000</td></tr><tr><td>e7c6afcb-8154-4aa7-98a1-f46d64d6579b</td><td>Qual a quantidade de glossary_name distintos?</td><td>Existem 2 glossary_name distintos.</td><td>2024-06-04T20:13:25.304+0000</td></tr></tbody></table></div>"
      ]
     },
     "metadata": {
      "application/vnd.databricks.v1+output": {
       "addedWidgets": {},
       "aggData": [],
       "aggError": "",
       "aggOverflow": false,
       "aggSchema": [],
       "aggSeriesLimitReached": false,
       "aggType": "",
       "arguments": {},
       "columnCustomDisplayInfos": {},
       "data": [
        [
         "0e4b31e8-74ff-4cd0-a5f9-ff6ddee20e14",
         " Existe algum dado na coluna PeriododeRetenção maior que 500 ? Se sim, quais?",
         "Existem 10 dados na coluna PeriododeRetenção maiores que 500.",
         "2024-06-04T20:02:19.853+0000"
        ],
        [
         "e7c6afcb-8154-4aa7-98a1-f46d64d6579b",
         "Qual a quantidade de glossary_name distintos?",
         "Existem 2 glossary_name distintos.",
         "2024-06-04T20:13:25.304+0000"
        ]
       ],
       "datasetInfos": [],
       "dbfsResultPath": null,
       "isJsonSchema": true,
       "metadata": {},
       "overflow": false,
       "plotOptions": {
        "customPlotOptions": {},
        "displayType": "table",
        "pivotAggregation": null,
        "pivotColumns": null,
        "xColumns": null,
        "yColumns": null
       },
       "removedWidgets": [],
       "schema": [
        {
         "metadata": "{}",
         "name": "id",
         "type": "\"string\""
        },
        {
         "metadata": "{}",
         "name": "prompt",
         "type": "\"string\""
        },
        {
         "metadata": "{}",
         "name": "prompt_response",
         "type": "\"string\""
        },
        {
         "metadata": "{}",
         "name": "insertion_date",
         "type": "\"timestamp\""
        }
       ],
       "type": "table"
      }
     },
     "output_type": "display_data"
    }
   ],
   "source": [
    "%sql\n",
    "SELECT *\n",
    "FROM llm.prompt_outputs"
   ]
  }
 ],
 "metadata": {
  "application/vnd.databricks.v1+notebook": {
   "dashboards": [],
   "environmentMetadata": null,
   "language": "python",
   "notebookMetadata": {
    "mostRecentlyExecutedCommandWithImplicitDF": {
     "commandId": 2200312921950547,
     "dataframes": [
      "_sqldf"
     ]
    },
    "pythonIndentUnit": 4,
    "widgetLayout": [
     {
      "breakBefore": false,
      "name": "Busca",
      "width": 1809
     }
    ]
   },
   "notebookName": "front_end",
   "widgets": {
    "Busca": {
     "currentValue": "Qual a quantidade de glossary_name distintos?",
     "nuid": "1c8a236e-4780-4e68-882f-a8ee91f093c0",
     "typedWidgetInfo": null,
     "widgetInfo": {
      "widgetType": "text",
      "defaultValue": "",
      "label": null,
      "name": "Busca",
      "options": {
       "widgetType": "text",
       "autoCreated": null,
       "validationRegex": null
      }
     }
    }
   }
  }
 },
 "nbformat": 4,
 "nbformat_minor": 0
}
