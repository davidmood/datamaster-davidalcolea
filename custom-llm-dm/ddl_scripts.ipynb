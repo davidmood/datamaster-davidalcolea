{
 "cells": [
  {
   "cell_type": "code",
   "execution_count": null,
   "metadata": {
    "application/vnd.databricks.v1+cell": {
     "cellMetadata": {
      "byteLimit": 2048000,
      "implicitDf": true,
      "rowLimit": 10000
     },
     "inputWidgets": {},
     "nuid": "0c041157-d00d-429d-85e6-a9d5fb11e4c8",
     "showTitle": false,
     "title": ""
    }
   },
   "outputs": [],
   "source": [
    "%run ./configs"
   ]
  },
  {
   "cell_type": "code",
   "execution_count": null,
   "metadata": {},
   "outputs": [],
   "source": [
    "spark.conf.set(\"spark.databricks.delta.commitValidation.enabled\", False)"
   ]
  },
  {
   "cell_type": "code",
   "execution_count": null,
   "metadata": {
    "vscode": {
     "languageId": "sql"
    }
   },
   "outputs": [],
   "source": [
    "-- Drop the llm database if it exists\n",
    "DROP DATABASE IF EXISTS llm CASCADE;\n",
    "\n",
    "-- Create the llm database\n",
    "CREATE DATABASE llm;"
   ]
  },
  {
   "cell_type": "code",
   "execution_count": null,
   "metadata": {},
   "outputs": [],
   "source": [
    "dbutils.fs.rm(\"dbfs:/user/hive/warehouse/llm.db/prompt_outputs\",recurse=True)\n",
    "dbutils.fs.rm(\"dbfs:/user/hive/warehouse/llm.db/metadata_table\",recurse=True)"
   ]
  },
  {
   "cell_type": "code",
   "execution_count": null,
   "metadata": {},
   "outputs": [],
   "source": [
    "CREATE TABLE llm.prompt_outputs (id STRING NOT NULL, prompt STRING, prompt_response STRING, insertion_date TIMESTAMP)\n",
    "    COMMENT 'Table for storing prompt outputs';"
   ]
  },
  {
   "cell_type": "code",
   "execution_count": null,
   "metadata": {},
   "outputs": [],
   "source": [
    "csv_file_path = \"dbfs:/FileStore/shared_uploads/david.alcolea@outlook.com/tabela_metadados.csv\"\n",
    "df = spark.read.option(\"header\", \"true\").csv(csv_file_path)\n",
    "table_name = \"metadata_table\"\n",
    "database_name = \"llm\"\n",
    "df.write.format(\"delta\").mode(\"overwrite\").option(\"overwriteSchema\", \"true\").saveAsTable(f\"{database_name}.{table_name}\")"
   ]
  }
 ],
 "metadata": {
  "application/vnd.databricks.v1+notebook": {
   "dashboards": [
    {
     "elements": [
      {
       "dashboardResultIndex": null,
       "elementNUID": "670a9586-5858-424f-b322-203671dacada",
       "elementType": "command",
       "guid": "002e8948-a556-4eec-ae37-d817b22fefa2",
       "options": {
        "autoScaleImg": false,
        "scale": 0,
        "showTitle": true,
        "title": "Requisições por Data/Hora",
        "titleAlign": "center"
       },
       "position": {
        "height": 13,
        "width": 24,
        "x": 0,
        "y": 0,
        "z": null
       },
       "resultIndex": null
      }
     ],
     "globalVars": {},
     "guid": "",
     "layoutOption": {
      "grid": true,
      "stack": true
     },
     "nuid": "6b1402a7-53a7-4cbf-8389-1c811f6daacb",
     "origId": 2200312921950581,
     "title": "Dashboard de Requisições",
     "version": "DashboardViewV1",
     "width": 1024
    }
   ],
   "environmentMetadata": null,
   "language": "python",
   "notebookMetadata": {
    "mostRecentlyExecutedCommandWithImplicitDF": {
     "commandId": 2200312921950579,
     "dataframes": [
      "_sqldf"
     ]
    },
    "pythonIndentUnit": 4
   },
   "notebookName": "Dashboard",
   "widgets": {}
  },
  "language_info": {
   "name": "python"
  }
 },
 "nbformat": 4,
 "nbformat_minor": 0
}
