{
 "cells": [
  {
   "cell_type": "code",
   "execution_count": 0,
   "metadata": {
    "application/vnd.databricks.v1+cell": {
     "cellMetadata": {
      "byteLimit": 2048000,
      "rowLimit": 10000
     },
     "inputWidgets": {},
     "nuid": "27e22979-5c8e-486d-9e91-7a34215c183f",
     "showTitle": false,
     "title": ""
    }
   },
   "outputs": [],
   "source": [
    "query = dbutils.widgets.get(\"Busca\")\n",
    "query_ad = query + \". Responda em portugues.\"\n",
    "answer = agent.run(query_ad)"
   ]
  },
  {
   "cell_type": "code",
   "execution_count": 0,
   "metadata": {
    "application/vnd.databricks.v1+cell": {
     "cellMetadata": {
      "byteLimit": 2048000,
      "rowLimit": 10000
     },
     "inputWidgets": {},
     "nuid": "8ea7a1e1-743f-4509-ba3e-f7253af583d4",
     "showTitle": true,
     "title": "Salvando pergunta e resposta na tabela de controle"
    }
   },
   "outputs": [],
   "source": [
    "# Generate UUID and get the \"Busca\" value\n",
    "id_value = str(uuid.uuid4())\n",
    "\n",
    "# Current timestamp\n",
    "timestamp_value =  datetime.now()\n",
    "\n",
    "# Create a DataFrame with explicit schema\n",
    "schema = StructType([\n",
    "    StructField(\"id\", StringType(), True),\n",
    "    StructField(\"prompt\", StringType(), True),\n",
    "    StructField(\"prompt_response\", StringType(), True),\n",
    "    StructField(\"insertion_date\",  TimestampType(), True)\n",
    "])\n",
    "\n",
    "# Create a DataFrame with the explicit schema\n",
    "data = [(id_value, query, answer, timestamp_value)]\n",
    "df_prompt = spark.createDataFrame(data, schema=schema)\n",
    "df_prompt.write.mode(\"append\").format(\"delta\").saveAsTable(\"llm.prompt_outputs\")"
   ]
  },
  {
   "cell_type": "code",
   "execution_count": 0,
   "metadata": {
    "application/vnd.databricks.v1+cell": {
     "cellMetadata": {},
     "inputWidgets": {},
     "nuid": "fef4c8c4-d17c-44b1-96b2-6dc8b74d2980",
     "showTitle": false,
     "title": ""
    }
   },
   "outputs": [],
   "source": [
    "# Set the font size using CSS\n",
    "font_size_css = \"font-size: 32px;\"\n",
    "\n",
    "# Display the answer with increased font size\n",
    "displayHTML(\"<p style='{}'>{}</p>\".format(font_size_css, answer))"
   ]
  }
 ],
 "metadata": {
  "application/vnd.databricks.v1+notebook": {
   "dashboards": [],
   "environmentMetadata": null,
   "language": "python",
   "notebookMetadata": {
    "mostRecentlyExecutedCommandWithImplicitDF": {
     "commandId": 642245910639509,
     "dataframes": [
      "_sqldf"
     ]
    },
    "pythonIndentUnit": 4
   },
   "notebookName": "back_end",
   "widgets": {}
  }
 },
 "nbformat": 4,
 "nbformat_minor": 0
}
